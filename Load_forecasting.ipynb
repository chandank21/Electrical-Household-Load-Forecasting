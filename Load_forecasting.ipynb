{
 "cells": [
  {
   "cell_type": "markdown",
   "id": "704f6482",
   "metadata": {},
   "source": [
    "# Tree Based Methods...."
   ]
  },
  {
   "cell_type": "markdown",
   "id": "69ca768e",
   "metadata": {},
   "source": [
    "Loading DATA.."
   ]
  },
  {
   "cell_type": "code",
   "execution_count": 1,
   "id": "12c69cdd",
   "metadata": {},
   "outputs": [],
   "source": [
    "import pandas as pd\n",
    "import numpy as np\n",
    "from  sklearn.preprocessing import MinMaxScaler\n",
    "import matplotlib.pyplot as plt\n",
    "from sklearn.impute import KNNImputer\n",
    "from sklearn.ensemble import RandomForestRegressor\n",
    "from sklearn.metrics import explained_variance_score,mean_squared_error,mean_absolute_percentage_error\n",
    "from datetime import timedelta"
   ]
  },
  {
   "cell_type": "code",
   "execution_count": 2,
   "id": "9a3db2ba",
   "metadata": {},
   "outputs": [],
   "source": [
    "def load_data():\n",
    "    raw_df=[]\n",
    "    df=pd.read_excel(r'C:\\Users\\SR-19\\Desktop\\Analog_Reports\\report_ss4_CheLab_2.xlsx',\n",
    "                skiprows=6,parse_dates={'Time':[0]},index_col='Time',skipfooter=1,sheet_name=None)\n",
    "    for key,dframe in df.items():\n",
    "        dframe.drop(dframe.tail(1).index,inplace=True)\n",
    "        raw_df.append(dframe[['KW']])\n",
    "    raw_df=pd.concat(raw_df)\n",
    "    raw_df.index=pd.to_datetime(raw_df.index,format='%d-%m-%Y %H:%M')\n",
    "    return raw_df\n",
    "\n",
    "def load_weather():\n",
    "    weather = pd.read_csv(r'C:\\Users\\SR-19\\Desktop\\Analog_Reports\\kanpur_weather.csv',\n",
    "                             header=24)\n",
    "    LIST=[]\n",
    "    for i in range(weather.shape[0]):\n",
    "        if weather.HR.values[i] < 10:\n",
    "            string = f\"{weather.YEAR.values[i]}-{weather.MO.values[i]}-{weather.DY.values[i]} {0}{weather.HR.values[i]}\"\n",
    "        else:\n",
    "            string = f\"{weather.YEAR.values[i]}-{weather.MO.values[i]}-{weather.DY.values[i]} {weather.HR.values[i]}\"\n",
    "\n",
    "        LIST.append(pd.to_datetime(string,format='%Y-%m-%d %H'))\n",
    "\n",
    "    weather['time']=LIST\n",
    "    weather=weather.set_index(weather['time'],drop=False)\n",
    "    weather.drop(['YEAR','MO','DY','HR','time'],axis=1,inplace=True)\n",
    "    return weather\n",
    "\n",
    "def fill_missing(df,neighbours=6):\n",
    "    start,end=df.index[0],df.index[-1]\n",
    "    index=pd.date_range(start=start,end=end,freq='30T')\n",
    "    t_df=pd.DataFrame({'val':np.NaN},index=index)\n",
    "    result = df.join(t_df, how=\"outer\").drop(['val'],axis=1)\n",
    "    imputer = KNNImputer(n_neighbors=neighbours)\n",
    "    imputed = imputer.fit_transform(result)\n",
    "    return pd.DataFrame({'KW':imputed.flatten()},index=index)\n",
    "\n",
    "def adding_hour_feature(data,hour_lags=5):\n",
    "    data_index= data.index\n",
    "    for i in range(1,(hour_lags+1)):\n",
    "        for index in data_index:\n",
    "            if index-timedelta(hours=i) in data.index:\n",
    "                data.loc[index,f\"t_{i}\"]=data.loc[index-timedelta(hours=i),'KW']\n",
    "            else:\n",
    "                data.loc[index,f\"t_{i}\"]=data.loc[index-timedelta(hours=i)+timedelta(days=1),'KW']\n",
    "    return data\n",
    "\n",
    "def adding_day_feature(data,day_lags=1):\n",
    "    data_index= data.index\n",
    "    for i in range(1,(day_lags+1)):\n",
    "        for index in data_index:\n",
    "            if index-timedelta(days=i) in data.index:\n",
    "                a = data.loc[index-timedelta(hours=24*i),'KW']\n",
    "                b = data.loc[index-timedelta(hours=24*i-1),'KW']\n",
    "                if index-timedelta(hours=24*i+1) in data.index:\n",
    "                    c = data.loc[index-timedelta(hours=24*i+1),'KW'] \n",
    "                else:\n",
    "                    c= data.loc[index-timedelta(hours=24*i),'KW']\n",
    "                data.loc[index,f\"d_{i}\"] = np.mean((a,b,c)) \n",
    "            else:\n",
    "                data.loc[index,f\"d_{i}\"] = data.loc[index-timedelta(days=i)+timedelta(weeks=1),'KW']\n",
    "    return data\n",
    "                              \n",
    "def add_timing_feature(dff,hour_lags=5,day_lags=1):\n",
    "                              \n",
    "    dff = adding_hour_feature(dff,hour_lags=hour_lags)\n",
    "    dff = adding_day_feature(dff,day_lags=day_lags)  \n",
    "                              \n",
    "    dff['day_of_week']=dff.index.day_name()\n",
    "    dff['hour']=dff.index.hour\n",
    "   \n",
    "    # adding hour wise mean...\n",
    "    for hour,hour_df in dff.groupby('hour'):\n",
    "        dff.loc[dff[dff.hour==hour].index,'hour_mean']=hour_df[-7:].KW.mean()\n",
    "    \n",
    "    #for daywise mean....\n",
    "    for day,day_df in dff.groupby('day_of_week'):\n",
    "        dff.loc[dff[dff.day_of_week==day].index,'week_mean'] = day_df[-5:].KW.mean()\n",
    "        \n",
    "    return dff.drop(columns=['day_of_week','hour'],axis=1)\n"
   ]
  },
  {
   "cell_type": "markdown",
   "id": "a7d6f83e",
   "metadata": {},
   "source": [
    "def adding_week_feature(week_lags=4,data):\n",
    "    global date_index\n",
    "    for index in date_index:\n",
    "        if index-timedelta(weeks=week) in new_data.index:\n",
    "            data.loc[index,f\"week-{week}\"]=data.loc[index-timedelta(weeks=week),'Global_active_power']\n",
    "        else:\n",
    "            data.loc[index,f\"week-{week}\"]=data.loc[index+timedelta(weeks=week),'Global_active_power']\n",
    "    return data"
   ]
  },
  {
   "cell_type": "code",
   "execution_count": 3,
   "id": "7717412c",
   "metadata": {},
   "outputs": [],
   "source": [
    "raw_df=load_data()\n",
    "imputed_df = fill_missing(raw_df)\n",
    "hourly_df=imputed_df.resample('1H').mean()\n",
    "hourly_dff=add_timing_feature(hourly_df,hour_lags=6,day_lags=5)\n",
    "weather_df=load_weather()\n",
    "combine_df = pd.merge(hourly_dff, weather_df, left_index=True, right_index=True)\n",
    "scaler = MinMaxScaler(feature_range=(0, 1))\n",
    "scaled_df = scaler.fit_transform(combine_df)"
   ]
  },
  {
   "cell_type": "code",
   "execution_count": 4,
   "id": "d78369bc",
   "metadata": {},
   "outputs": [],
   "source": [
    "input_data = scaled_df[:,1:]\n",
    "target_data = scaled_df[:,0]\n",
    "inp_dim = int(0.7 * scaled_df.shape[0])\n",
    "train_input = input_data[:inp_dim]\n",
    "train_target = target_data[:inp_dim]\n",
    "test_input = input_data[inp_dim:]\n",
    "test_target = target_data[inp_dim:]"
   ]
  },
  {
   "cell_type": "markdown",
   "id": "755090d5",
   "metadata": {},
   "source": [
    "Base Model....."
   ]
  },
  {
   "cell_type": "code",
   "execution_count": 5,
   "id": "1916e3b6",
   "metadata": {},
   "outputs": [
    {
     "name": "stdout",
     "output_type": "stream",
     "text": [
      "Wall time: 728 ms\n"
     ]
    },
    {
     "data": {
      "text/plain": [
       "RandomForestRegressor(n_jobs=-1, random_state=42)"
      ]
     },
     "execution_count": 5,
     "metadata": {},
     "output_type": "execute_result"
    }
   ],
   "source": [
    "%%time\n",
    "base_model = RandomForestRegressor(n_jobs=-1, random_state=42)\n",
    "base_model.fit(train_input, train_target)"
   ]
  },
  {
   "cell_type": "code",
   "execution_count": 6,
   "id": "9cfeb5b5",
   "metadata": {},
   "outputs": [
    {
     "name": "stdout",
     "output_type": "stream",
     "text": [
      "Training set model score....\n"
     ]
    },
    {
     "data": {
      "text/plain": [
       "0.9881945163347673"
      ]
     },
     "execution_count": 6,
     "metadata": {},
     "output_type": "execute_result"
    }
   ],
   "source": [
    "test_result = base_model.predict(test_input)\n",
    "train_result = base_model.predict(train_input)\n",
    "print(f\"Training set model score....\")\n",
    "base_model.score(train_input, train_target)"
   ]
  },
  {
   "cell_type": "code",
   "execution_count": 7,
   "id": "173e42bb",
   "metadata": {},
   "outputs": [
    {
     "name": "stdout",
     "output_type": "stream",
     "text": [
      "Test set model score....\n"
     ]
    },
    {
     "data": {
      "text/plain": [
       "0.9068675819298846"
      ]
     },
     "execution_count": 7,
     "metadata": {},
     "output_type": "execute_result"
    }
   ],
   "source": [
    "print(f\"Test set model score....\")\n",
    "base_model.score(test_input, test_target)"
   ]
  },
  {
   "cell_type": "code",
   "execution_count": 8,
   "id": "ec3fc748",
   "metadata": {},
   "outputs": [
    {
     "name": "stdout",
     "output_type": "stream",
     "text": [
      "test...summary\n",
      "explained_variance_score =0.8925106348587433\n",
      "mean_squared_error =0.0017589186737005048\n",
      "mean_absolute_percentage_error =0.14022354139064405\n"
     ]
    }
   ],
   "source": [
    "def print_summary():\n",
    "    print(f\"test...summary\")\n",
    "    print(f\"explained_variance_score ={explained_variance_score(test_result,test_target)}\")\n",
    "    print(f\"mean_squared_error ={mean_squared_error(test_result,test_target)}\")\n",
    "    print(f\"mean_absolute_percentage_error ={mean_absolute_percentage_error(test_result,test_target)}\")\n",
    "print_summary()"
   ]
  },
  {
   "cell_type": "code",
   "execution_count": 9,
   "id": "6dbd4579",
   "metadata": {},
   "outputs": [],
   "source": [
    "importance_df = pd.DataFrame({\n",
    "    'feature': combine_df.columns[1:],\n",
    "    'importance': base_model.feature_importances_\n",
    "}).sort_values('importance', ascending=False)"
   ]
  },
  {
   "cell_type": "code",
   "execution_count": 10,
   "id": "fefdbbaf",
   "metadata": {},
   "outputs": [
    {
     "data": {
      "text/html": [
       "<div>\n",
       "<style scoped>\n",
       "    .dataframe tbody tr th:only-of-type {\n",
       "        vertical-align: middle;\n",
       "    }\n",
       "\n",
       "    .dataframe tbody tr th {\n",
       "        vertical-align: top;\n",
       "    }\n",
       "\n",
       "    .dataframe thead th {\n",
       "        text-align: right;\n",
       "    }\n",
       "</style>\n",
       "<table border=\"1\" class=\"dataframe\">\n",
       "  <thead>\n",
       "    <tr style=\"text-align: right;\">\n",
       "      <th></th>\n",
       "      <th>feature</th>\n",
       "      <th>importance</th>\n",
       "    </tr>\n",
       "  </thead>\n",
       "  <tbody>\n",
       "    <tr>\n",
       "      <th>0</th>\n",
       "      <td>t_1</td>\n",
       "      <td>0.833360</td>\n",
       "    </tr>\n",
       "    <tr>\n",
       "      <th>11</th>\n",
       "      <td>hour_mean</td>\n",
       "      <td>0.043160</td>\n",
       "    </tr>\n",
       "    <tr>\n",
       "      <th>1</th>\n",
       "      <td>t_2</td>\n",
       "      <td>0.022426</td>\n",
       "    </tr>\n",
       "    <tr>\n",
       "      <th>6</th>\n",
       "      <td>d_1</td>\n",
       "      <td>0.019715</td>\n",
       "    </tr>\n",
       "    <tr>\n",
       "      <th>7</th>\n",
       "      <td>d_2</td>\n",
       "      <td>0.008819</td>\n",
       "    </tr>\n",
       "    <tr>\n",
       "      <th>21</th>\n",
       "      <td>T2M</td>\n",
       "      <td>0.008700</td>\n",
       "    </tr>\n",
       "    <tr>\n",
       "      <th>8</th>\n",
       "      <td>d_3</td>\n",
       "      <td>0.007933</td>\n",
       "    </tr>\n",
       "    <tr>\n",
       "      <th>2</th>\n",
       "      <td>t_3</td>\n",
       "      <td>0.006703</td>\n",
       "    </tr>\n",
       "    <tr>\n",
       "      <th>5</th>\n",
       "      <td>t_6</td>\n",
       "      <td>0.005609</td>\n",
       "    </tr>\n",
       "    <tr>\n",
       "      <th>3</th>\n",
       "      <td>t_4</td>\n",
       "      <td>0.005303</td>\n",
       "    </tr>\n",
       "    <tr>\n",
       "      <th>10</th>\n",
       "      <td>d_5</td>\n",
       "      <td>0.004784</td>\n",
       "    </tr>\n",
       "    <tr>\n",
       "      <th>15</th>\n",
       "      <td>PS</td>\n",
       "      <td>0.004531</td>\n",
       "    </tr>\n",
       "    <tr>\n",
       "      <th>14</th>\n",
       "      <td>WS10M</td>\n",
       "      <td>0.004250</td>\n",
       "    </tr>\n",
       "    <tr>\n",
       "      <th>13</th>\n",
       "      <td>WD10M</td>\n",
       "      <td>0.003796</td>\n",
       "    </tr>\n",
       "    <tr>\n",
       "      <th>9</th>\n",
       "      <td>d_4</td>\n",
       "      <td>0.003633</td>\n",
       "    </tr>\n",
       "    <tr>\n",
       "      <th>17</th>\n",
       "      <td>RH2M</td>\n",
       "      <td>0.003365</td>\n",
       "    </tr>\n",
       "    <tr>\n",
       "      <th>4</th>\n",
       "      <td>t_5</td>\n",
       "      <td>0.003271</td>\n",
       "    </tr>\n",
       "    <tr>\n",
       "      <th>20</th>\n",
       "      <td>T2MWET</td>\n",
       "      <td>0.002616</td>\n",
       "    </tr>\n",
       "    <tr>\n",
       "      <th>12</th>\n",
       "      <td>week_mean</td>\n",
       "      <td>0.001848</td>\n",
       "    </tr>\n",
       "    <tr>\n",
       "      <th>22</th>\n",
       "      <td>T2MDEW</td>\n",
       "      <td>0.001729</td>\n",
       "    </tr>\n",
       "    <tr>\n",
       "      <th>18</th>\n",
       "      <td>QV2M</td>\n",
       "      <td>0.001653</td>\n",
       "    </tr>\n",
       "    <tr>\n",
       "      <th>16</th>\n",
       "      <td>PRECTOTCORR</td>\n",
       "      <td>0.000604</td>\n",
       "    </tr>\n",
       "    <tr>\n",
       "      <th>23</th>\n",
       "      <td>ALLSKY_SFC_UV_INDEX</td>\n",
       "      <td>0.000509</td>\n",
       "    </tr>\n",
       "    <tr>\n",
       "      <th>19</th>\n",
       "      <td>ALLSKY_SFC_LW_DWN</td>\n",
       "      <td>0.000460</td>\n",
       "    </tr>\n",
       "    <tr>\n",
       "      <th>28</th>\n",
       "      <td>ALLSKY_SFC_SW_DWN</td>\n",
       "      <td>0.000333</td>\n",
       "    </tr>\n",
       "    <tr>\n",
       "      <th>24</th>\n",
       "      <td>ALLSKY_SFC_UVB</td>\n",
       "      <td>0.000281</td>\n",
       "    </tr>\n",
       "    <tr>\n",
       "      <th>25</th>\n",
       "      <td>ALLSKY_SFC_UVA</td>\n",
       "      <td>0.000228</td>\n",
       "    </tr>\n",
       "    <tr>\n",
       "      <th>26</th>\n",
       "      <td>SZA</td>\n",
       "      <td>0.000213</td>\n",
       "    </tr>\n",
       "    <tr>\n",
       "      <th>27</th>\n",
       "      <td>ALLSKY_SRF_ALB</td>\n",
       "      <td>0.000169</td>\n",
       "    </tr>\n",
       "  </tbody>\n",
       "</table>\n",
       "</div>"
      ],
      "text/plain": [
       "                feature  importance\n",
       "0                   t_1    0.833360\n",
       "11            hour_mean    0.043160\n",
       "1                   t_2    0.022426\n",
       "6                   d_1    0.019715\n",
       "7                   d_2    0.008819\n",
       "21                  T2M    0.008700\n",
       "8                   d_3    0.007933\n",
       "2                   t_3    0.006703\n",
       "5                   t_6    0.005609\n",
       "3                   t_4    0.005303\n",
       "10                  d_5    0.004784\n",
       "15                   PS    0.004531\n",
       "14                WS10M    0.004250\n",
       "13                WD10M    0.003796\n",
       "9                   d_4    0.003633\n",
       "17                 RH2M    0.003365\n",
       "4                   t_5    0.003271\n",
       "20               T2MWET    0.002616\n",
       "12            week_mean    0.001848\n",
       "22               T2MDEW    0.001729\n",
       "18                 QV2M    0.001653\n",
       "16          PRECTOTCORR    0.000604\n",
       "23  ALLSKY_SFC_UV_INDEX    0.000509\n",
       "19    ALLSKY_SFC_LW_DWN    0.000460\n",
       "28    ALLSKY_SFC_SW_DWN    0.000333\n",
       "24       ALLSKY_SFC_UVB    0.000281\n",
       "25       ALLSKY_SFC_UVA    0.000228\n",
       "26                  SZA    0.000213\n",
       "27       ALLSKY_SRF_ALB    0.000169"
      ]
     },
     "execution_count": 10,
     "metadata": {},
     "output_type": "execute_result"
    }
   ],
   "source": [
    "importance_df"
   ]
  },
  {
   "cell_type": "code",
   "execution_count": 11,
   "id": "e30e0b80",
   "metadata": {},
   "outputs": [],
   "source": [
    "def get_score(max_estimator):\n",
    "    acc_list=[]\n",
    "    model = RandomForestRegressor(random_state=42, n_jobs=-1, n_estimators=max_estimator)\n",
    "    model.fit(X_train, train_target.values.ravel())\n",
    "    for i in range(max_estimator):\n",
    "        acc_list.append((f\"estimator={i}\",\n",
    "                         f\"train_acc={model.score(X_train, train_target)}\",\n",
    "                         f\"test_acc={model.score(X_test, test_target)}\"))\n",
    "    return acc_list"
   ]
  },
  {
   "cell_type": "code",
   "execution_count": 12,
   "id": "2ee78c9a",
   "metadata": {},
   "outputs": [
    {
     "ename": "NameError",
     "evalue": "name 'X_train' is not defined",
     "output_type": "error",
     "traceback": [
      "\u001b[1;31m---------------------------------------------------------------------------\u001b[0m",
      "\u001b[1;31mNameError\u001b[0m                                 Traceback (most recent call last)",
      "\u001b[1;32m~\\AppData\\Local\\Temp/ipykernel_2564/3256091926.py\u001b[0m in \u001b[0;36m<module>\u001b[1;34m\u001b[0m\n\u001b[1;32m----> 1\u001b[1;33m \u001b[0mget_score\u001b[0m\u001b[1;33m(\u001b[0m\u001b[1;36m200\u001b[0m\u001b[1;33m)\u001b[0m\u001b[1;33m\u001b[0m\u001b[1;33m\u001b[0m\u001b[0m\n\u001b[0m",
      "\u001b[1;32m~\\AppData\\Local\\Temp/ipykernel_2564/344734153.py\u001b[0m in \u001b[0;36mget_score\u001b[1;34m(max_estimator)\u001b[0m\n\u001b[0;32m      2\u001b[0m     \u001b[0macc_list\u001b[0m\u001b[1;33m=\u001b[0m\u001b[1;33m[\u001b[0m\u001b[1;33m]\u001b[0m\u001b[1;33m\u001b[0m\u001b[1;33m\u001b[0m\u001b[0m\n\u001b[0;32m      3\u001b[0m     \u001b[0mmodel\u001b[0m \u001b[1;33m=\u001b[0m \u001b[0mRandomForestRegressor\u001b[0m\u001b[1;33m(\u001b[0m\u001b[0mrandom_state\u001b[0m\u001b[1;33m=\u001b[0m\u001b[1;36m42\u001b[0m\u001b[1;33m,\u001b[0m \u001b[0mn_jobs\u001b[0m\u001b[1;33m=\u001b[0m\u001b[1;33m-\u001b[0m\u001b[1;36m1\u001b[0m\u001b[1;33m,\u001b[0m \u001b[0mn_estimators\u001b[0m\u001b[1;33m=\u001b[0m\u001b[0mmax_estimator\u001b[0m\u001b[1;33m)\u001b[0m\u001b[1;33m\u001b[0m\u001b[1;33m\u001b[0m\u001b[0m\n\u001b[1;32m----> 4\u001b[1;33m     \u001b[0mmodel\u001b[0m\u001b[1;33m.\u001b[0m\u001b[0mfit\u001b[0m\u001b[1;33m(\u001b[0m\u001b[0mX_train\u001b[0m\u001b[1;33m,\u001b[0m \u001b[0mtrain_target\u001b[0m\u001b[1;33m.\u001b[0m\u001b[0mvalues\u001b[0m\u001b[1;33m.\u001b[0m\u001b[0mravel\u001b[0m\u001b[1;33m(\u001b[0m\u001b[1;33m)\u001b[0m\u001b[1;33m)\u001b[0m\u001b[1;33m\u001b[0m\u001b[1;33m\u001b[0m\u001b[0m\n\u001b[0m\u001b[0;32m      5\u001b[0m     \u001b[1;32mfor\u001b[0m \u001b[0mi\u001b[0m \u001b[1;32min\u001b[0m \u001b[0mrange\u001b[0m\u001b[1;33m(\u001b[0m\u001b[0mmax_estimator\u001b[0m\u001b[1;33m)\u001b[0m\u001b[1;33m:\u001b[0m\u001b[1;33m\u001b[0m\u001b[1;33m\u001b[0m\u001b[0m\n\u001b[0;32m      6\u001b[0m         acc_list.append((f\"estimator={i}\",\n",
      "\u001b[1;31mNameError\u001b[0m: name 'X_train' is not defined"
     ]
    }
   ],
   "source": [
    "get_score(200)"
   ]
  },
  {
   "cell_type": "code",
   "execution_count": null,
   "id": "7b64c1c9",
   "metadata": {},
   "outputs": [],
   "source": [
    "def get_score(max_depth):\n",
    "    acc_list=[]\n",
    "    for i in range(2,max_depth,5):\n",
    "        model=RandomForestRegressor(random_state=42, n_jobs=-1,max_depth=i)\n",
    "        model.fit(X_train, train_target.values.ravel())\n",
    "        acc_list.append((f\"max_depth={i}\",\n",
    "                             f\"train_acc={model.score(X_train, train_target)}\",\n",
    "                             f\"test_acc={model.score(X_test, test_target)}\"))\n",
    "    return acc_list"
   ]
  },
  {
   "cell_type": "code",
   "execution_count": null,
   "id": "ea485138",
   "metadata": {},
   "outputs": [],
   "source": [
    "get_score(50)"
   ]
  },
  {
   "cell_type": "code",
   "execution_count": null,
   "id": "4a21ffe3",
   "metadata": {},
   "outputs": [],
   "source": [
    "def get_score(max_leaf_node):\n",
    "    acc_list=[]\n",
    "    for i in range(4,max_leaf_node):\n",
    "        model=RandomForestRegressor(random_state=42, n_jobs=-1,max_depth=25,max_leaf_nodes=2**i)\n",
    "        model.fit(X_train, train_target.values.ravel())\n",
    "        acc_list.append((f\"max_leaf_nodes={2**i}\",\n",
    "                             f\"train_acc={model.score(X_train, train_target)}\",\n",
    "                             f\"test_acc={model.score(X_test, test_target)}\"))\n",
    "    return acc_list"
   ]
  },
  {
   "cell_type": "code",
   "execution_count": null,
   "id": "0a8eb6c9",
   "metadata": {},
   "outputs": [],
   "source": [
    "get_score(12)"
   ]
  },
  {
   "cell_type": "code",
   "execution_count": null,
   "id": "04d78c4a",
   "metadata": {},
   "outputs": [],
   "source": [
    "model=RandomForestRegressor(random_state=42,\n",
    "                            n_jobs=-1,\n",
    "                            max_depth=16,\n",
    "                            max_leaf_nodes=2**5)\n",
    "model.fit(X_train, train_target.values.ravel())\n",
    "model.score(X_train, train_target),model.score(X_test, test_target)"
   ]
  },
  {
   "cell_type": "code",
   "execution_count": null,
   "id": "6fe996cd",
   "metadata": {},
   "outputs": [],
   "source": [
    "model=RandomForestRegressor(random_state=42,\n",
    "                            n_jobs=-1,\n",
    "                            max_depth=25,\n",
    "                            max_leaf_nodes=2**10,\n",
    "                           max_features='log2')\n",
    "model.fit(X_train, train_target.values.ravel())\n",
    "model.score(X_train, train_target),model.score(X_test, test_target)"
   ]
  },
  {
   "cell_type": "code",
   "execution_count": null,
   "id": "5109ddd3",
   "metadata": {},
   "outputs": [],
   "source": [
    "model=RandomForestRegressor(random_state=42,\n",
    "                            n_jobs=-1,\n",
    "                            max_depth=25,\n",
    "                            max_leaf_nodes=2**8,\n",
    "                           max_features=10,\n",
    "                           max_samples=0.5,\n",
    "                           min_impurity_decrease=1e-6)\n",
    "model.fit(X_train, train_target.values.ravel())\n",
    "model.score(X_train, train_target),model.score(X_test, test_target)"
   ]
  },
  {
   "cell_type": "code",
   "execution_count": null,
   "id": "7affc897",
   "metadata": {},
   "outputs": [],
   "source": [
    "model=RandomForestRegressor(random_state=42,\n",
    "                            n_jobs=-1,\n",
    "                            max_depth=27,\n",
    "                            max_leaf_nodes=2**8,\n",
    "                           max_features=7)\n",
    "model.fit(X_train, train_target.values.ravel())\n",
    "model.score(X_train, train_target),model.score(X_test, test_target)"
   ]
  },
  {
   "cell_type": "markdown",
   "id": "12b63891",
   "metadata": {},
   "source": [
    "## Adding some features... "
   ]
  },
  {
   "cell_type": "code",
   "execution_count": null,
   "id": "d76872fe",
   "metadata": {},
   "outputs": [],
   "source": [
    "def normalizing_data(raw_df,data):\n",
    "    numerical_cols=['day-1','day-2','day-3','day-4','day-5','day-6','week-1','week-2','week-3','week-4']\n",
    "    scaler = MinMaxScaler().fit(raw_df[numerical_cols])\n",
    "    normlized_data[numerical_cols] = scaler.transform(data[numerical_cols]) \n",
    "    return normlized_data"
   ]
  },
  {
   "cell_type": "code",
   "execution_count": null,
   "id": "2a0e6893",
   "metadata": {},
   "outputs": [],
   "source": [
    "def encoding_data(raw_df,data):\n",
    "    categorical_cols=['weekend']\n",
    "    encoder = OneHotEncoder(sparse=False, handle_unknown='ignore').fit(raw_df[categorical_cols])\n",
    "    encoded_cols = list(encoder.get_feature_names_out(categorical_cols))\n",
    "    encoded_data[encoded_cols] = encoder.transform(data[categorical_cols])\n",
    "    return encoded_data,encoded_cols\n"
   ]
  },
  {
   "cell_type": "code",
   "execution_count": null,
   "id": "ba1fb220",
   "metadata": {},
   "outputs": [],
   "source": [
    "def split_data(raw_df):\n",
    "    \n",
    "    #creating diff columns...and splitting data into.. input and target\n",
    "    input_cols=['day-1','day-2','day-3','day-4','day-5','week-1','week-2','week-3','week-4','weekend']\n",
    "    target_cols=['Global_active_power']\n",
    "    \n",
    "    train_input=train_data[input_cols].copy()\n",
    "    train_target=train_data[target_cols].copy()\n",
    "    test_input=test_data[input_cols].copy()\n",
    "    test_target=test_data[target_cols].copy()\n",
    "    return train_input,train_target,test_input,test_target"
   ]
  },
  {
   "cell_type": "code",
   "execution_count": null,
   "id": "fa780e85",
   "metadata": {},
   "outputs": [],
   "source": [
    "adding_day_feature(1,date_index)"
   ]
  },
  {
   "cell_type": "code",
   "execution_count": null,
   "id": "8a3bdffd",
   "metadata": {},
   "outputs": [],
   "source": [
    "X_train = train_input[numerical_cols+encoded_cols]\n",
    "X_test = test_input[numerical_cols+encoded_cols]"
   ]
  },
  {
   "cell_type": "markdown",
   "id": "27632e2f",
   "metadata": {},
   "source": [
    "### Adding Some Features... "
   ]
  },
  {
   "cell_type": "markdown",
   "id": "99e3baf6",
   "metadata": {},
   "source": [
    "# pca"
   ]
  },
  {
   "cell_type": "code",
   "execution_count": null,
   "id": "96112b4b",
   "metadata": {},
   "outputs": [],
   "source": [
    "raw_df.head(10)\n",
    "xt=raw_df.drop([\"weekend\",\"year\",\"day_of_week\",\"month\",\"hour\"],axis=1)\n",
    "xt"
   ]
  },
  {
   "cell_type": "code",
   "execution_count": null,
   "id": "056e1383",
   "metadata": {},
   "outputs": [],
   "source": [
    "xt.to_csv(\"mydata.csv\")"
   ]
  },
  {
   "cell_type": "code",
   "execution_count": null,
   "id": "44e79189",
   "metadata": {},
   "outputs": [],
   "source": [
    "pca = PCA(0.95)\n",
    "data=pca.fit_transform(xt)"
   ]
  },
  {
   "cell_type": "code",
   "execution_count": null,
   "id": "843cfacb",
   "metadata": {},
   "outputs": [],
   "source": [
    "pca.explained_variance_ratio_"
   ]
  },
  {
   "cell_type": "markdown",
   "id": "2f0f6695",
   "metadata": {},
   "source": [
    "# printing...."
   ]
  },
  {
   "cell_type": "code",
   "execution_count": null,
   "id": "ee8958a1",
   "metadata": {},
   "outputs": [],
   "source": [
    "temp_data=new_data[new_data.year>2006] "
   ]
  },
  {
   "cell_type": "code",
   "execution_count": null,
   "id": "796313bc",
   "metadata": {},
   "outputs": [],
   "source": [
    "temp_data.columns"
   ]
  },
  {
   "cell_type": "code",
   "execution_count": null,
   "id": "6cc0e1ab",
   "metadata": {},
   "outputs": [],
   "source": [
    "import seaborn as sns"
   ]
  },
  {
   "cell_type": "code",
   "execution_count": null,
   "id": "de36acc3",
   "metadata": {},
   "outputs": [],
   "source": [
    "plt.figure(figsize=(30,15))\n",
    "weekend=temp_data.weekend.astype(float)\n",
    "ax = sns.boxplot(x=temp_data.hour, y=temp_data.Global_active_power,hue=weekend,data=temp_data)"
   ]
  },
  {
   "cell_type": "code",
   "execution_count": null,
   "id": "44ffd56d",
   "metadata": {},
   "outputs": [],
   "source": [
    "plt.figure(figsize=(30,15))\n",
    "weekday=temp_data.day_of_week\n",
    "ax = sns.boxplot(x=temp_data.hour, y=temp_data.Global_active_power,hue=weekday,data=temp_data)"
   ]
  },
  {
   "cell_type": "code",
   "execution_count": null,
   "id": "44810d4d",
   "metadata": {},
   "outputs": [],
   "source": [
    "plt.figure(figsize=(25,15))\n",
    "month_name=temp_data.month\n",
    "ax = sns.boxplot(x=temp_data.hour, y=temp_data.Global_active_power,hue=month_name,data=temp_data)"
   ]
  },
  {
   "cell_type": "code",
   "execution_count": null,
   "id": "323c234c",
   "metadata": {},
   "outputs": [],
   "source": [
    "plt.scatter(temp_data.hour,temp_data.Global_active_power)"
   ]
  },
  {
   "cell_type": "code",
   "execution_count": null,
   "id": "39fa4acc",
   "metadata": {},
   "outputs": [],
   "source": [
    "plt.scatter(temp_data.weekend,temp_data.Global_active_power)"
   ]
  },
  {
   "cell_type": "code",
   "execution_count": null,
   "id": "ff835ee6",
   "metadata": {},
   "outputs": [],
   "source": [
    "plt.scatter(temp_data.month,temp_data.Global_active_power)"
   ]
  },
  {
   "cell_type": "code",
   "execution_count": null,
   "id": "ec604b19",
   "metadata": {},
   "outputs": [],
   "source": [
    "plt.figure(figsize=(30,15))\n",
    "ax = sns.boxplot(x=temp_data.month, y=temp_data.Global_active_power,data=temp_data)"
   ]
  },
  {
   "cell_type": "code",
   "execution_count": null,
   "id": "3be1d0cc",
   "metadata": {},
   "outputs": [],
   "source": [
    "plt.scatter(temp_data.day_of_week,temp_data.Global_active_power)"
   ]
  },
  {
   "cell_type": "code",
   "execution_count": null,
   "id": "5a002123",
   "metadata": {},
   "outputs": [],
   "source": [
    "plt.figure(figsize=(30,15))\n",
    "\n",
    "ax = sns.boxplot(x=temp_data.day_of_week, y=temp_data.Global_active_power,data=temp_data)"
   ]
  },
  {
   "cell_type": "markdown",
   "id": "acba7384",
   "metadata": {},
   "source": [
    "# Grid Search CV"
   ]
  },
  {
   "cell_type": "code",
   "execution_count": null,
   "id": "b867e049",
   "metadata": {},
   "outputs": [],
   "source": [
    "from sklearn.model_selection import GridSearchCV"
   ]
  },
  {
   "cell_type": "code",
   "execution_count": null,
   "id": "06751b8e",
   "metadata": {},
   "outputs": [],
   "source": [
    "param_grid = {\n",
    "    'max_depth': [8,10],\n",
    "    'min_samples_split': [2,4],\n",
    "    'n_estimators': [int(x) for x in range(100, 500, 100)]}"
   ]
  },
  {
   "cell_type": "code",
   "execution_count": null,
   "id": "b3e13f7f",
   "metadata": {},
   "outputs": [],
   "source": [
    "model=RandomForestRegressor()\n",
    "grid_search = GridSearchCV(estimator = model, param_grid = param_grid, \n",
    "                          cv = 10, n_jobs = -1, verbose = 2)\n",
    "grid_search.fit(X_train,train_target)"
   ]
  },
  {
   "cell_type": "code",
   "execution_count": null,
   "id": "91247681",
   "metadata": {},
   "outputs": [],
   "source": [
    "grid_search.best_params_"
   ]
  },
  {
   "cell_type": "code",
   "execution_count": null,
   "id": "a2caf221",
   "metadata": {},
   "outputs": [],
   "source": [
    "grid_search.best_score_"
   ]
  },
  {
   "cell_type": "code",
   "execution_count": null,
   "id": "39fc199c",
   "metadata": {},
   "outputs": [],
   "source": [
    "import pandas as pd\n",
    " \n",
    "# The read_csv is reading the csv file into Dataframe\n",
    " \n",
    "df = pd.read_csv(r'C:\\Users\\SR-19\\Desktop\\Env_hourly_data.csv')\n",
    " \n",
    "# then to_excel method converting the .csv file to .xlsx file.\n",
    " \n",
    "df.to_excel(r'C:\\Users\\SR-19\\Desktop\\Env_hourly_data.xlsx')\n",
    " "
   ]
  },
  {
   "cell_type": "code",
   "execution_count": null,
   "id": "293e773b",
   "metadata": {},
   "outputs": [],
   "source": [
    "np.mean((5,10,15))"
   ]
  },
  {
   "cell_type": "code",
   "execution_count": null,
   "id": "13145c3e",
   "metadata": {},
   "outputs": [],
   "source": []
  }
 ],
 "metadata": {
  "kernelspec": {
   "display_name": "Python 3 (ipykernel)",
   "language": "python",
   "name": "python3"
  },
  "language_info": {
   "codemirror_mode": {
    "name": "ipython",
    "version": 3
   },
   "file_extension": ".py",
   "mimetype": "text/x-python",
   "name": "python",
   "nbconvert_exporter": "python",
   "pygments_lexer": "ipython3",
   "version": "3.9.9"
  }
 },
 "nbformat": 4,
 "nbformat_minor": 5
}
