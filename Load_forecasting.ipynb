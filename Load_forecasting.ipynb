{
  "cells": [
    {
      "cell_type": "markdown",
      "id": "26ab32ba",
      "metadata": {
        "id": "26ab32ba"
      },
      "source": [
        "# PART-1"
      ]
    },
    {
      "cell_type": "code",
      "execution_count": null,
      "id": "4e4e4531",
      "metadata": {
        "id": "4e4e4531",
        "outputId": "d43269ca-c8d8-4df0-df01-034dc342ff2a"
      },
      "outputs": [
        {
          "ename": "KeyboardInterrupt",
          "evalue": "",
          "output_type": "error",
          "traceback": [
            "\u001b[1;31m---------------------------------------------------------------------------\u001b[0m",
            "\u001b[1;31mKeyboardInterrupt\u001b[0m                         Traceback (most recent call last)",
            "\u001b[1;32m~\\AppData\\Local\\Temp/ipykernel_12340/509984611.py\u001b[0m in \u001b[0;36m<module>\u001b[1;34m\u001b[0m\n\u001b[0;32m    120\u001b[0m \u001b[1;32mif\u001b[0m \u001b[0m__name__\u001b[0m\u001b[1;33m==\u001b[0m\u001b[1;34m'__main__'\u001b[0m\u001b[1;33m:\u001b[0m\u001b[1;33m\u001b[0m\u001b[1;33m\u001b[0m\u001b[0m\n\u001b[0;32m    121\u001b[0m     \u001b[0mfile_dir\u001b[0m \u001b[1;33m=\u001b[0m \u001b[1;34mr'C:\\Users\\SR-19\\Desktop\\household_power_consumption.txt'\u001b[0m\u001b[1;33m\u001b[0m\u001b[1;33m\u001b[0m\u001b[0m\n\u001b[1;32m--> 122\u001b[1;33m     \u001b[0mdataset\u001b[0m \u001b[1;33m=\u001b[0m \u001b[0mload_data\u001b[0m\u001b[1;33m(\u001b[0m\u001b[0mfile_dir\u001b[0m\u001b[1;33m)\u001b[0m\u001b[1;33m\u001b[0m\u001b[1;33m\u001b[0m\u001b[0m\n\u001b[0m\u001b[0;32m    123\u001b[0m     \u001b[0mparse_data\u001b[0m\u001b[1;33m(\u001b[0m\u001b[0mdataset\u001b[0m\u001b[1;33m)\u001b[0m\u001b[1;33m\u001b[0m\u001b[1;33m\u001b[0m\u001b[0m\n\u001b[0;32m    124\u001b[0m     \u001b[0mtrain_input\u001b[0m\u001b[1;33m,\u001b[0m\u001b[0mtrain_target\u001b[0m\u001b[1;33m,\u001b[0m\u001b[0mtest_input\u001b[0m\u001b[1;33m,\u001b[0m\u001b[0mtest_target\u001b[0m \u001b[1;33m=\u001b[0m \u001b[0msplit_data\u001b[0m\u001b[1;33m(\u001b[0m\u001b[1;33m)\u001b[0m\u001b[1;33m\u001b[0m\u001b[1;33m\u001b[0m\u001b[0m\n",
            "\u001b[1;32m~\\AppData\\Local\\Temp/ipykernel_12340/509984611.py\u001b[0m in \u001b[0;36mload_data\u001b[1;34m(file_dir)\u001b[0m\n\u001b[0;32m     10\u001b[0m \u001b[1;33m\u001b[0m\u001b[0m\n\u001b[0;32m     11\u001b[0m \u001b[1;32mdef\u001b[0m \u001b[0mload_data\u001b[0m\u001b[1;33m(\u001b[0m\u001b[0mfile_dir\u001b[0m\u001b[1;33m)\u001b[0m\u001b[1;33m:\u001b[0m\u001b[1;33m\u001b[0m\u001b[1;33m\u001b[0m\u001b[0m\n\u001b[1;32m---> 12\u001b[1;33m     dataset=pd.read_csv(file_dir,sep=';',\n\u001b[0m\u001b[0;32m     13\u001b[0m                     \u001b[0mheader\u001b[0m\u001b[1;33m=\u001b[0m\u001b[1;36m0\u001b[0m\u001b[1;33m,\u001b[0m\u001b[0mlow_memory\u001b[0m\u001b[1;33m=\u001b[0m\u001b[1;32mFalse\u001b[0m\u001b[1;33m,\u001b[0m\u001b[1;33m\u001b[0m\u001b[1;33m\u001b[0m\u001b[0m\n\u001b[0;32m     14\u001b[0m                     \u001b[0minfer_datetime_format\u001b[0m\u001b[1;33m=\u001b[0m\u001b[1;32mTrue\u001b[0m\u001b[1;33m,\u001b[0m\u001b[1;33m\u001b[0m\u001b[1;33m\u001b[0m\u001b[0m\n",
            "\u001b[1;32mC:\\python39\\lib\\site-packages\\pandas\\util\\_decorators.py\u001b[0m in \u001b[0;36mwrapper\u001b[1;34m(*args, **kwargs)\u001b[0m\n\u001b[0;32m    309\u001b[0m                     \u001b[0mstacklevel\u001b[0m\u001b[1;33m=\u001b[0m\u001b[0mstacklevel\u001b[0m\u001b[1;33m,\u001b[0m\u001b[1;33m\u001b[0m\u001b[1;33m\u001b[0m\u001b[0m\n\u001b[0;32m    310\u001b[0m                 )\n\u001b[1;32m--> 311\u001b[1;33m             \u001b[1;32mreturn\u001b[0m \u001b[0mfunc\u001b[0m\u001b[1;33m(\u001b[0m\u001b[1;33m*\u001b[0m\u001b[0margs\u001b[0m\u001b[1;33m,\u001b[0m \u001b[1;33m**\u001b[0m\u001b[0mkwargs\u001b[0m\u001b[1;33m)\u001b[0m\u001b[1;33m\u001b[0m\u001b[1;33m\u001b[0m\u001b[0m\n\u001b[0m\u001b[0;32m    312\u001b[0m \u001b[1;33m\u001b[0m\u001b[0m\n\u001b[0;32m    313\u001b[0m         \u001b[1;32mreturn\u001b[0m \u001b[0mwrapper\u001b[0m\u001b[1;33m\u001b[0m\u001b[1;33m\u001b[0m\u001b[0m\n",
            "\u001b[1;32mC:\\python39\\lib\\site-packages\\pandas\\io\\parsers\\readers.py\u001b[0m in \u001b[0;36mread_csv\u001b[1;34m(filepath_or_buffer, sep, delimiter, header, names, index_col, usecols, squeeze, prefix, mangle_dupe_cols, dtype, engine, converters, true_values, false_values, skipinitialspace, skiprows, skipfooter, nrows, na_values, keep_default_na, na_filter, verbose, skip_blank_lines, parse_dates, infer_datetime_format, keep_date_col, date_parser, dayfirst, cache_dates, iterator, chunksize, compression, thousands, decimal, lineterminator, quotechar, quoting, doublequote, escapechar, comment, encoding, encoding_errors, dialect, error_bad_lines, warn_bad_lines, on_bad_lines, delim_whitespace, low_memory, memory_map, float_precision, storage_options)\u001b[0m\n\u001b[0;32m    584\u001b[0m     \u001b[0mkwds\u001b[0m\u001b[1;33m.\u001b[0m\u001b[0mupdate\u001b[0m\u001b[1;33m(\u001b[0m\u001b[0mkwds_defaults\u001b[0m\u001b[1;33m)\u001b[0m\u001b[1;33m\u001b[0m\u001b[1;33m\u001b[0m\u001b[0m\n\u001b[0;32m    585\u001b[0m \u001b[1;33m\u001b[0m\u001b[0m\n\u001b[1;32m--> 586\u001b[1;33m     \u001b[1;32mreturn\u001b[0m \u001b[0m_read\u001b[0m\u001b[1;33m(\u001b[0m\u001b[0mfilepath_or_buffer\u001b[0m\u001b[1;33m,\u001b[0m \u001b[0mkwds\u001b[0m\u001b[1;33m)\u001b[0m\u001b[1;33m\u001b[0m\u001b[1;33m\u001b[0m\u001b[0m\n\u001b[0m\u001b[0;32m    587\u001b[0m \u001b[1;33m\u001b[0m\u001b[0m\n\u001b[0;32m    588\u001b[0m \u001b[1;33m\u001b[0m\u001b[0m\n",
            "\u001b[1;32mC:\\python39\\lib\\site-packages\\pandas\\io\\parsers\\readers.py\u001b[0m in \u001b[0;36m_read\u001b[1;34m(filepath_or_buffer, kwds)\u001b[0m\n\u001b[0;32m    486\u001b[0m \u001b[1;33m\u001b[0m\u001b[0m\n\u001b[0;32m    487\u001b[0m     \u001b[1;32mwith\u001b[0m \u001b[0mparser\u001b[0m\u001b[1;33m:\u001b[0m\u001b[1;33m\u001b[0m\u001b[1;33m\u001b[0m\u001b[0m\n\u001b[1;32m--> 488\u001b[1;33m         \u001b[1;32mreturn\u001b[0m \u001b[0mparser\u001b[0m\u001b[1;33m.\u001b[0m\u001b[0mread\u001b[0m\u001b[1;33m(\u001b[0m\u001b[0mnrows\u001b[0m\u001b[1;33m)\u001b[0m\u001b[1;33m\u001b[0m\u001b[1;33m\u001b[0m\u001b[0m\n\u001b[0m\u001b[0;32m    489\u001b[0m \u001b[1;33m\u001b[0m\u001b[0m\n\u001b[0;32m    490\u001b[0m \u001b[1;33m\u001b[0m\u001b[0m\n",
            "\u001b[1;32mC:\\python39\\lib\\site-packages\\pandas\\io\\parsers\\readers.py\u001b[0m in \u001b[0;36mread\u001b[1;34m(self, nrows)\u001b[0m\n\u001b[0;32m   1045\u001b[0m     \u001b[1;32mdef\u001b[0m \u001b[0mread\u001b[0m\u001b[1;33m(\u001b[0m\u001b[0mself\u001b[0m\u001b[1;33m,\u001b[0m \u001b[0mnrows\u001b[0m\u001b[1;33m=\u001b[0m\u001b[1;32mNone\u001b[0m\u001b[1;33m)\u001b[0m\u001b[1;33m:\u001b[0m\u001b[1;33m\u001b[0m\u001b[1;33m\u001b[0m\u001b[0m\n\u001b[0;32m   1046\u001b[0m         \u001b[0mnrows\u001b[0m \u001b[1;33m=\u001b[0m \u001b[0mvalidate_integer\u001b[0m\u001b[1;33m(\u001b[0m\u001b[1;34m\"nrows\"\u001b[0m\u001b[1;33m,\u001b[0m \u001b[0mnrows\u001b[0m\u001b[1;33m)\u001b[0m\u001b[1;33m\u001b[0m\u001b[1;33m\u001b[0m\u001b[0m\n\u001b[1;32m-> 1047\u001b[1;33m         \u001b[0mindex\u001b[0m\u001b[1;33m,\u001b[0m \u001b[0mcolumns\u001b[0m\u001b[1;33m,\u001b[0m \u001b[0mcol_dict\u001b[0m \u001b[1;33m=\u001b[0m \u001b[0mself\u001b[0m\u001b[1;33m.\u001b[0m\u001b[0m_engine\u001b[0m\u001b[1;33m.\u001b[0m\u001b[0mread\u001b[0m\u001b[1;33m(\u001b[0m\u001b[0mnrows\u001b[0m\u001b[1;33m)\u001b[0m\u001b[1;33m\u001b[0m\u001b[1;33m\u001b[0m\u001b[0m\n\u001b[0m\u001b[0;32m   1048\u001b[0m \u001b[1;33m\u001b[0m\u001b[0m\n\u001b[0;32m   1049\u001b[0m         \u001b[1;32mif\u001b[0m \u001b[0mindex\u001b[0m \u001b[1;32mis\u001b[0m \u001b[1;32mNone\u001b[0m\u001b[1;33m:\u001b[0m\u001b[1;33m\u001b[0m\u001b[1;33m\u001b[0m\u001b[0m\n",
            "\u001b[1;32mC:\\python39\\lib\\site-packages\\pandas\\io\\parsers\\c_parser_wrapper.py\u001b[0m in \u001b[0;36mread\u001b[1;34m(self, nrows)\u001b[0m\n\u001b[0;32m    307\u001b[0m             \u001b[0mdata\u001b[0m \u001b[1;33m=\u001b[0m \u001b[1;33m{\u001b[0m\u001b[0mk\u001b[0m\u001b[1;33m:\u001b[0m \u001b[0mv\u001b[0m \u001b[1;32mfor\u001b[0m \u001b[0mk\u001b[0m\u001b[1;33m,\u001b[0m \u001b[1;33m(\u001b[0m\u001b[0mi\u001b[0m\u001b[1;33m,\u001b[0m \u001b[0mv\u001b[0m\u001b[1;33m)\u001b[0m \u001b[1;32min\u001b[0m \u001b[0mzip\u001b[0m\u001b[1;33m(\u001b[0m\u001b[0mnames\u001b[0m\u001b[1;33m,\u001b[0m \u001b[0mdata_tups\u001b[0m\u001b[1;33m)\u001b[0m\u001b[1;33m}\u001b[0m\u001b[1;33m\u001b[0m\u001b[1;33m\u001b[0m\u001b[0m\n\u001b[0;32m    308\u001b[0m \u001b[1;33m\u001b[0m\u001b[0m\n\u001b[1;32m--> 309\u001b[1;33m             \u001b[0mnames\u001b[0m\u001b[1;33m,\u001b[0m \u001b[0mdata\u001b[0m \u001b[1;33m=\u001b[0m \u001b[0mself\u001b[0m\u001b[1;33m.\u001b[0m\u001b[0m_do_date_conversions\u001b[0m\u001b[1;33m(\u001b[0m\u001b[0mnames\u001b[0m\u001b[1;33m,\u001b[0m \u001b[0mdata\u001b[0m\u001b[1;33m)\u001b[0m\u001b[1;33m\u001b[0m\u001b[1;33m\u001b[0m\u001b[0m\n\u001b[0m\u001b[0;32m    310\u001b[0m             \u001b[0mindex\u001b[0m\u001b[1;33m,\u001b[0m \u001b[0mnames\u001b[0m \u001b[1;33m=\u001b[0m \u001b[0mself\u001b[0m\u001b[1;33m.\u001b[0m\u001b[0m_make_index\u001b[0m\u001b[1;33m(\u001b[0m\u001b[0mdata\u001b[0m\u001b[1;33m,\u001b[0m \u001b[0malldata\u001b[0m\u001b[1;33m,\u001b[0m \u001b[0mnames\u001b[0m\u001b[1;33m)\u001b[0m\u001b[1;33m\u001b[0m\u001b[1;33m\u001b[0m\u001b[0m\n\u001b[0;32m    311\u001b[0m \u001b[1;33m\u001b[0m\u001b[0m\n",
            "\u001b[1;32mC:\\python39\\lib\\site-packages\\pandas\\io\\parsers\\base_parser.py\u001b[0m in \u001b[0;36m_do_date_conversions\u001b[1;34m(self, names, data)\u001b[0m\n\u001b[0;32m    793\u001b[0m \u001b[1;33m\u001b[0m\u001b[0m\n\u001b[0;32m    794\u001b[0m         \u001b[1;32mif\u001b[0m \u001b[0mself\u001b[0m\u001b[1;33m.\u001b[0m\u001b[0mparse_dates\u001b[0m \u001b[1;32mis\u001b[0m \u001b[1;32mnot\u001b[0m \u001b[1;32mNone\u001b[0m\u001b[1;33m:\u001b[0m\u001b[1;33m\u001b[0m\u001b[1;33m\u001b[0m\u001b[0m\n\u001b[1;32m--> 795\u001b[1;33m             data, names = _process_date_conversion(\n\u001b[0m\u001b[0;32m    796\u001b[0m                 \u001b[0mdata\u001b[0m\u001b[1;33m,\u001b[0m\u001b[1;33m\u001b[0m\u001b[1;33m\u001b[0m\u001b[0m\n\u001b[0;32m    797\u001b[0m                 \u001b[0mself\u001b[0m\u001b[1;33m.\u001b[0m\u001b[0m_date_conv\u001b[0m\u001b[1;33m,\u001b[0m\u001b[1;33m\u001b[0m\u001b[1;33m\u001b[0m\u001b[0m\n",
            "\u001b[1;32mC:\\python39\\lib\\site-packages\\pandas\\io\\parsers\\base_parser.py\u001b[0m in \u001b[0;36m_process_date_conversion\u001b[1;34m(data_dict, converter, parse_spec, index_col, index_names, columns, keep_date_col)\u001b[0m\n\u001b[0;32m   1108\u001b[0m                 \u001b[1;32mraise\u001b[0m \u001b[0mValueError\u001b[0m\u001b[1;33m(\u001b[0m\u001b[1;34mf\"Date column {new_name} already in dict\"\u001b[0m\u001b[1;33m)\u001b[0m\u001b[1;33m\u001b[0m\u001b[1;33m\u001b[0m\u001b[0m\n\u001b[0;32m   1109\u001b[0m \u001b[1;33m\u001b[0m\u001b[0m\n\u001b[1;32m-> 1110\u001b[1;33m             _, col, old_names = _try_convert_dates(\n\u001b[0m\u001b[0;32m   1111\u001b[0m                 \u001b[0mconverter\u001b[0m\u001b[1;33m,\u001b[0m \u001b[0mcolspec\u001b[0m\u001b[1;33m,\u001b[0m \u001b[0mdata_dict\u001b[0m\u001b[1;33m,\u001b[0m \u001b[0morig_names\u001b[0m\u001b[1;33m\u001b[0m\u001b[1;33m\u001b[0m\u001b[0m\n\u001b[0;32m   1112\u001b[0m             )\n",
            "\u001b[1;32mC:\\python39\\lib\\site-packages\\pandas\\io\\parsers\\base_parser.py\u001b[0m in \u001b[0;36m_try_convert_dates\u001b[1;34m(parser, colspec, data_dict, columns)\u001b[0m\n\u001b[0;32m   1142\u001b[0m     \u001b[0mto_parse\u001b[0m \u001b[1;33m=\u001b[0m \u001b[1;33m[\u001b[0m\u001b[0mdata_dict\u001b[0m\u001b[1;33m[\u001b[0m\u001b[0mc\u001b[0m\u001b[1;33m]\u001b[0m \u001b[1;32mfor\u001b[0m \u001b[0mc\u001b[0m \u001b[1;32min\u001b[0m \u001b[0mcolnames\u001b[0m \u001b[1;32mif\u001b[0m \u001b[0mc\u001b[0m \u001b[1;32min\u001b[0m \u001b[0mdata_dict\u001b[0m\u001b[1;33m]\u001b[0m\u001b[1;33m\u001b[0m\u001b[1;33m\u001b[0m\u001b[0m\n\u001b[0;32m   1143\u001b[0m \u001b[1;33m\u001b[0m\u001b[0m\n\u001b[1;32m-> 1144\u001b[1;33m     \u001b[0mnew_col\u001b[0m \u001b[1;33m=\u001b[0m \u001b[0mparser\u001b[0m\u001b[1;33m(\u001b[0m\u001b[1;33m*\u001b[0m\u001b[0mto_parse\u001b[0m\u001b[1;33m)\u001b[0m\u001b[1;33m\u001b[0m\u001b[1;33m\u001b[0m\u001b[0m\n\u001b[0m\u001b[0;32m   1145\u001b[0m     \u001b[1;32mreturn\u001b[0m \u001b[0mnew_name\u001b[0m\u001b[1;33m,\u001b[0m \u001b[0mnew_col\u001b[0m\u001b[1;33m,\u001b[0m \u001b[0mcolnames\u001b[0m\u001b[1;33m\u001b[0m\u001b[1;33m\u001b[0m\u001b[0m\n\u001b[0;32m   1146\u001b[0m \u001b[1;33m\u001b[0m\u001b[0m\n",
            "\u001b[1;32mC:\\python39\\lib\\site-packages\\pandas\\io\\parsers\\base_parser.py\u001b[0m in \u001b[0;36mconverter\u001b[1;34m(*date_cols)\u001b[0m\n\u001b[0;32m   1021\u001b[0m \u001b[1;33m\u001b[0m\u001b[0m\n\u001b[0;32m   1022\u001b[0m             \u001b[1;32mtry\u001b[0m\u001b[1;33m:\u001b[0m\u001b[1;33m\u001b[0m\u001b[1;33m\u001b[0m\u001b[0m\n\u001b[1;32m-> 1023\u001b[1;33m                 return tools.to_datetime(\n\u001b[0m\u001b[0;32m   1024\u001b[0m                     \u001b[0mensure_object\u001b[0m\u001b[1;33m(\u001b[0m\u001b[0mstrs\u001b[0m\u001b[1;33m)\u001b[0m\u001b[1;33m,\u001b[0m\u001b[1;33m\u001b[0m\u001b[1;33m\u001b[0m\u001b[0m\n\u001b[0;32m   1025\u001b[0m                     \u001b[0mutc\u001b[0m\u001b[1;33m=\u001b[0m\u001b[1;32mNone\u001b[0m\u001b[1;33m,\u001b[0m\u001b[1;33m\u001b[0m\u001b[1;33m\u001b[0m\u001b[0m\n",
            "\u001b[1;32mC:\\python39\\lib\\site-packages\\pandas\\core\\tools\\datetimes.py\u001b[0m in \u001b[0;36mto_datetime\u001b[1;34m(arg, errors, dayfirst, yearfirst, utc, format, exact, unit, infer_datetime_format, origin, cache)\u001b[0m\n\u001b[0;32m    910\u001b[0m             \u001b[0mresult\u001b[0m \u001b[1;33m=\u001b[0m \u001b[0m_convert_and_box_cache\u001b[0m\u001b[1;33m(\u001b[0m\u001b[0marg\u001b[0m\u001b[1;33m,\u001b[0m \u001b[0mcache_array\u001b[0m\u001b[1;33m)\u001b[0m\u001b[1;33m\u001b[0m\u001b[1;33m\u001b[0m\u001b[0m\n\u001b[0;32m    911\u001b[0m         \u001b[1;32melse\u001b[0m\u001b[1;33m:\u001b[0m\u001b[1;33m\u001b[0m\u001b[1;33m\u001b[0m\u001b[0m\n\u001b[1;32m--> 912\u001b[1;33m             \u001b[0mresult\u001b[0m \u001b[1;33m=\u001b[0m \u001b[0mconvert_listlike\u001b[0m\u001b[1;33m(\u001b[0m\u001b[0marg\u001b[0m\u001b[1;33m,\u001b[0m \u001b[0mformat\u001b[0m\u001b[1;33m)\u001b[0m\u001b[1;33m\u001b[0m\u001b[1;33m\u001b[0m\u001b[0m\n\u001b[0m\u001b[0;32m    913\u001b[0m     \u001b[1;32melse\u001b[0m\u001b[1;33m:\u001b[0m\u001b[1;33m\u001b[0m\u001b[1;33m\u001b[0m\u001b[0m\n\u001b[0;32m    914\u001b[0m         \u001b[0mresult\u001b[0m \u001b[1;33m=\u001b[0m \u001b[0mconvert_listlike\u001b[0m\u001b[1;33m(\u001b[0m\u001b[0mnp\u001b[0m\u001b[1;33m.\u001b[0m\u001b[0marray\u001b[0m\u001b[1;33m(\u001b[0m\u001b[1;33m[\u001b[0m\u001b[0marg\u001b[0m\u001b[1;33m]\u001b[0m\u001b[1;33m)\u001b[0m\u001b[1;33m,\u001b[0m \u001b[0mformat\u001b[0m\u001b[1;33m)\u001b[0m\u001b[1;33m[\u001b[0m\u001b[1;36m0\u001b[0m\u001b[1;33m]\u001b[0m\u001b[1;33m\u001b[0m\u001b[1;33m\u001b[0m\u001b[0m\n",
            "\u001b[1;32mC:\\python39\\lib\\site-packages\\pandas\\core\\tools\\datetimes.py\u001b[0m in \u001b[0;36m_convert_listlike_datetimes\u001b[1;34m(arg, format, name, tz, unit, errors, infer_datetime_format, dayfirst, yearfirst, exact)\u001b[0m\n\u001b[0;32m    391\u001b[0m \u001b[1;33m\u001b[0m\u001b[0m\n\u001b[0;32m    392\u001b[0m     \u001b[1;32mif\u001b[0m \u001b[0mformat\u001b[0m \u001b[1;32mis\u001b[0m \u001b[1;32mnot\u001b[0m \u001b[1;32mNone\u001b[0m\u001b[1;33m:\u001b[0m\u001b[1;33m\u001b[0m\u001b[1;33m\u001b[0m\u001b[0m\n\u001b[1;32m--> 393\u001b[1;33m         res = _to_datetime_with_format(\n\u001b[0m\u001b[0;32m    394\u001b[0m             \u001b[0marg\u001b[0m\u001b[1;33m,\u001b[0m \u001b[0morig_arg\u001b[0m\u001b[1;33m,\u001b[0m \u001b[0mname\u001b[0m\u001b[1;33m,\u001b[0m \u001b[0mtz\u001b[0m\u001b[1;33m,\u001b[0m \u001b[0mformat\u001b[0m\u001b[1;33m,\u001b[0m \u001b[0mexact\u001b[0m\u001b[1;33m,\u001b[0m \u001b[0merrors\u001b[0m\u001b[1;33m,\u001b[0m \u001b[0minfer_datetime_format\u001b[0m\u001b[1;33m\u001b[0m\u001b[1;33m\u001b[0m\u001b[0m\n\u001b[0;32m    395\u001b[0m         )\n",
            "\u001b[1;32mC:\\python39\\lib\\site-packages\\pandas\\core\\tools\\datetimes.py\u001b[0m in \u001b[0;36m_to_datetime_with_format\u001b[1;34m(arg, orig_arg, name, tz, fmt, exact, errors, infer_datetime_format)\u001b[0m\n\u001b[0;32m    498\u001b[0m \u001b[1;33m\u001b[0m\u001b[0m\n\u001b[0;32m    499\u001b[0m         \u001b[1;31m# fallback\u001b[0m\u001b[1;33m\u001b[0m\u001b[1;33m\u001b[0m\u001b[0m\n\u001b[1;32m--> 500\u001b[1;33m         res = _array_strptime_with_fallback(\n\u001b[0m\u001b[0;32m    501\u001b[0m             \u001b[0marg\u001b[0m\u001b[1;33m,\u001b[0m \u001b[0mname\u001b[0m\u001b[1;33m,\u001b[0m \u001b[0mtz\u001b[0m\u001b[1;33m,\u001b[0m \u001b[0mfmt\u001b[0m\u001b[1;33m,\u001b[0m \u001b[0mexact\u001b[0m\u001b[1;33m,\u001b[0m \u001b[0merrors\u001b[0m\u001b[1;33m,\u001b[0m \u001b[0minfer_datetime_format\u001b[0m\u001b[1;33m\u001b[0m\u001b[1;33m\u001b[0m\u001b[0m\n\u001b[0;32m    502\u001b[0m         )\n",
            "\u001b[1;32mC:\\python39\\lib\\site-packages\\pandas\\core\\tools\\datetimes.py\u001b[0m in \u001b[0;36m_array_strptime_with_fallback\u001b[1;34m(arg, name, tz, fmt, exact, errors, infer_datetime_format)\u001b[0m\n\u001b[0;32m    434\u001b[0m \u001b[1;33m\u001b[0m\u001b[0m\n\u001b[0;32m    435\u001b[0m     \u001b[1;32mtry\u001b[0m\u001b[1;33m:\u001b[0m\u001b[1;33m\u001b[0m\u001b[1;33m\u001b[0m\u001b[0m\n\u001b[1;32m--> 436\u001b[1;33m         \u001b[0mresult\u001b[0m\u001b[1;33m,\u001b[0m \u001b[0mtimezones\u001b[0m \u001b[1;33m=\u001b[0m \u001b[0marray_strptime\u001b[0m\u001b[1;33m(\u001b[0m\u001b[0marg\u001b[0m\u001b[1;33m,\u001b[0m \u001b[0mfmt\u001b[0m\u001b[1;33m,\u001b[0m \u001b[0mexact\u001b[0m\u001b[1;33m=\u001b[0m\u001b[0mexact\u001b[0m\u001b[1;33m,\u001b[0m \u001b[0merrors\u001b[0m\u001b[1;33m=\u001b[0m\u001b[0merrors\u001b[0m\u001b[1;33m)\u001b[0m\u001b[1;33m\u001b[0m\u001b[1;33m\u001b[0m\u001b[0m\n\u001b[0m\u001b[0;32m    437\u001b[0m         \u001b[1;32mif\u001b[0m \u001b[1;34m\"%Z\"\u001b[0m \u001b[1;32min\u001b[0m \u001b[0mfmt\u001b[0m \u001b[1;32mor\u001b[0m \u001b[1;34m\"%z\"\u001b[0m \u001b[1;32min\u001b[0m \u001b[0mfmt\u001b[0m\u001b[1;33m:\u001b[0m\u001b[1;33m\u001b[0m\u001b[1;33m\u001b[0m\u001b[0m\n\u001b[0;32m    438\u001b[0m             \u001b[1;32mreturn\u001b[0m \u001b[0m_return_parsed_timezone_results\u001b[0m\u001b[1;33m(\u001b[0m\u001b[0mresult\u001b[0m\u001b[1;33m,\u001b[0m \u001b[0mtimezones\u001b[0m\u001b[1;33m,\u001b[0m \u001b[0mtz\u001b[0m\u001b[1;33m,\u001b[0m \u001b[0mname\u001b[0m\u001b[1;33m)\u001b[0m\u001b[1;33m\u001b[0m\u001b[1;33m\u001b[0m\u001b[0m\n",
            "\u001b[1;31mKeyboardInterrupt\u001b[0m: "
          ]
        }
      ],
      "source": [
        "import numpy as np\n",
        "import pandas as pd\n",
        "from sklearn.preprocessing import MinMaxScaler\n",
        "from sklearn.preprocessing import OneHotEncoder\n",
        "from sklearn.tree import DecisionTreeRegressor\n",
        "from sklearn.ensemble import RandomForestRegressor\n",
        "from datetime import date\n",
        "from sklearn.decomposition import PCA\n",
        "import matplotlib.pyplot as plt\n",
        "\n",
        "def load_data(file_dir):\n",
        "    dataset=pd.read_csv(file_dir,sep=';',\n",
        "                    header=0,low_memory=False,\n",
        "                    infer_datetime_format=True,\n",
        "                    parse_dates={'datetime':[0,1]},\n",
        "                    index_col=['datetime'])\n",
        "    \n",
        "    #remove that row whuch has not any value...\n",
        "    dataset.drop(index=dataset[dataset['Global_active_power']=='?'].index,inplace=True)\n",
        "    dataset.to_csv('file1.csv')\n",
        "    return dataset\n",
        "\n",
        "def parse_data(dataset):\n",
        "    #convert specified column data into float\n",
        "    dataset=dataset.astype('float32')\n",
        "    \n",
        "    global v\n",
        "    #dataset.columns\n",
        "    # keep only required columns and remove unnecessary columns...\n",
        "    new_data=dataset[['Global_active_power']]\n",
        "    \n",
        "    # resampling data based on hour....\n",
        "    new_data=new_data.resample('1H').mean().round(3)\n",
        "    \n",
        "    u=new_data.loc['2010-11-26']['Global_active_power']\n",
        "    \n",
        "    # Add new features in dataset...\n",
        "    global date_index\n",
        "    date_index=new_data.index.to_series()\n",
        "    \n",
        "    #date.dt.month_name()\n",
        "    new_data['year']=date_index.dt.year\n",
        "    new_data['month']=date_index.dt.month_name()\n",
        "    new_data['day']=date_index.dt.day\n",
        "    new_data['day_of_week']=date_index.dt.day_name()\n",
        "    new_data['hour']=date_index.dt.hour\n",
        "    new_data['weekend']=date_index.dt.dayofweek>5\n",
        "    #new_data['festive_day']=date.dt.month\n",
        "    global raw_df\n",
        "    raw_df=new_data.replace((np.inf, -np.inf, np.nan), 0).reset_index(drop=True)\n",
        "    \n",
        "def split_data():    \n",
        "    #splitting train and test data..\n",
        "    train_data=raw_df[raw_df.year<2010]\n",
        "    test_data=raw_df[raw_df.year==2010]\n",
        "    \n",
        "    #creating diff columns...and splitting data into.. input and target\n",
        "    input_cols=['year','month','day_of_week','hour','weekend']\n",
        "    target_cols=['Global_active_power']\n",
        "    \n",
        "    train_input=train_data[input_cols].copy()\n",
        "    train_target=train_data[target_cols].copy()\n",
        "    test_input=test_data[input_cols].copy()\n",
        "    test_target=test_data[target_cols].copy()\n",
        "\n",
        "    return train_input,train_target,test_input,test_target\n",
        "\n",
        "def prepare_input(data):\n",
        "    \n",
        "    # scaling numerical columns and encoding categorical columns..\n",
        "    numerical_cols=['year']\n",
        "    categorical_cols=['month','day_of_week','hour','weekend']\n",
        "    \n",
        "    global raw_df\n",
        "    \n",
        "    scaler = MinMaxScaler().fit(raw_df[numerical_cols])\n",
        "    data[numerical_cols] = scaler.transform(data[numerical_cols])\n",
        "    \n",
        "    encoder = OneHotEncoder(sparse=False, handle_unknown='ignore').fit(raw_df[categorical_cols])\n",
        "    encoded_cols = list(encoder.get_feature_names_out(categorical_cols))\n",
        "    data[encoded_cols] = encoder.transform(data[categorical_cols])\n",
        "    \n",
        "    return data[numerical_cols + encoded_cols]\n",
        "\n",
        "def predict_input(model, new_input):\n",
        "    #index=pd.date_range(start=new_input['date'], periods=24, freq='H')\n",
        "    input_df = pd.DataFrame(new_input['Global_intensity'])\n",
        "    \n",
        "    global date_index\n",
        "    input_df['year']=date_index.dt.year\n",
        "    input_df['month']=date_index.dt.month_name()\n",
        "    input_df['day_of_week']=date_index.dt.day_name()\n",
        "    input_df['hour']=date_index.dt.hour\n",
        "    input_df['weekend']=date_index.dt.dayofweek>4\n",
        "    \n",
        "    #input_df=input_df.replace((np.inf, -np.inf, np.nan), 0).reset_index(drop=True)\n",
        "    #input_df[numeric_cols] = imputer.transform(input_df[numeric_cols])\n",
        "    X_input = prepare_input(input_df)\n",
        "   \n",
        "    pred = model.predict(X_input)\n",
        "    return pred\n",
        "    \n",
        "def DT_model(X,Y):\n",
        "    model = DecisionTreeRegressor(random_state=42)\n",
        "    model.fit(X, Y)\n",
        "    return model\n",
        "\n",
        "def RF_model(X,Y):\n",
        "    Regressor = RandomForestRegressor(n_jobs=-1, random_state=42)\n",
        "    # Y.values.ravel()\n",
        "    Regressor.fit(X, Y.values.ravel())\n",
        "    return Regressor\n",
        "\n",
        "def Do_PCA(data):\n",
        "    pca = PCA(0.95)\n",
        "    data=pca.fit_transform(data)\n",
        "    del pca\n",
        "    return data\n",
        "\n",
        "if __name__=='__main__':\n",
        "    file_dir = r'C:\\Users\\SR-19\\Desktop\\household_power_consumption.txt'\n",
        "    dataset = load_data(file_dir)\n",
        "    parse_data(dataset)\n",
        "    train_input,train_target,test_input,test_target = split_data()\n",
        "    X_train = prepare_input(train_input)\n",
        "    X_test = prepare_input(test_input)\n",
        "    #X_train_pca = Do_PCA(X_train)\n",
        "    #X_test_pca = Do_PCA(X_test)\n",
        "    #model=DT_model(X = X_train_pca,Y = train_target)\n",
        "    model=RF_model(X = X_train,Y = train_target)\n",
        "    global raw_df\n",
        "    '''\n",
        "    new_input={'date':date.today()}\n",
        "    output=predict_input(model,new_input)\n",
        "    print(output) '''\n",
        "    # model accuracy\n",
        "    print(\"training set accuracy.....\")\n",
        "    print(model.score(X_train,train_target))\n",
        "    print(\"test set accuracy......\")\n",
        "    print(model.score(X_test,test_target))"
      ]
    },
    {
      "cell_type": "code",
      "execution_count": null,
      "id": "6dbd4579",
      "metadata": {
        "id": "6dbd4579"
      },
      "outputs": [],
      "source": [
        "importance_df = pd.DataFrame({\n",
        "    'feature': X_train.columns,\n",
        "    'importance': model.feature_importances_\n",
        "}).sort_values('importance', ascending=False)"
      ]
    },
    {
      "cell_type": "code",
      "execution_count": null,
      "id": "fefdbbaf",
      "metadata": {
        "id": "fefdbbaf"
      },
      "outputs": [],
      "source": [
        "importance_df"
      ]
    },
    {
      "cell_type": "code",
      "execution_count": null,
      "id": "e30e0b80",
      "metadata": {
        "id": "e30e0b80"
      },
      "outputs": [],
      "source": [
        "def get_score(max_estimator):\n",
        "    acc_list=[]\n",
        "    model = RandomForestRegressor(random_state=42, n_jobs=-1, n_estimators=max_estimator)\n",
        "    model.fit(X_train, train_target.values.ravel())\n",
        "    for i in range(max_estimator):\n",
        "        acc_list.append((f\"estimator={i}\",\n",
        "                         f\"train_acc={model.score(X_train, train_target)}\",\n",
        "                         f\"test_acc={model.score(X_test, test_target)}\"))\n",
        "    return acc_list"
      ]
    },
    {
      "cell_type": "code",
      "execution_count": null,
      "id": "2ee78c9a",
      "metadata": {
        "id": "2ee78c9a"
      },
      "outputs": [],
      "source": [
        "get_score(200)"
      ]
    },
    {
      "cell_type": "code",
      "execution_count": null,
      "id": "7b64c1c9",
      "metadata": {
        "id": "7b64c1c9"
      },
      "outputs": [],
      "source": [
        "def get_score(max_depth):\n",
        "    acc_list=[]\n",
        "    for i in range(2,max_depth,5):\n",
        "        model=RandomForestRegressor(random_state=42, n_jobs=-1,max_depth=i)\n",
        "        model.fit(X_train, train_target.values.ravel())\n",
        "        acc_list.append((f\"max_depth={i}\",\n",
        "                             f\"train_acc={model.score(X_train, train_target)}\",\n",
        "                             f\"test_acc={model.score(X_test, test_target)}\"))\n",
        "    return acc_list"
      ]
    },
    {
      "cell_type": "code",
      "execution_count": null,
      "id": "ea485138",
      "metadata": {
        "id": "ea485138"
      },
      "outputs": [],
      "source": [
        "get_score(50)"
      ]
    },
    {
      "cell_type": "code",
      "execution_count": null,
      "id": "4a21ffe3",
      "metadata": {
        "id": "4a21ffe3"
      },
      "outputs": [],
      "source": [
        "def get_score(max_leaf_node):\n",
        "    acc_list=[]\n",
        "    for i in range(4,max_leaf_node):\n",
        "        model=RandomForestRegressor(random_state=42, n_jobs=-1,max_depth=25,max_leaf_nodes=2**i)\n",
        "        model.fit(X_train, train_target.values.ravel())\n",
        "        acc_list.append((f\"max_leaf_nodes={2**i}\",\n",
        "                             f\"train_acc={model.score(X_train, train_target)}\",\n",
        "                             f\"test_acc={model.score(X_test, test_target)}\"))\n",
        "    return acc_list"
      ]
    },
    {
      "cell_type": "code",
      "execution_count": null,
      "id": "0a8eb6c9",
      "metadata": {
        "id": "0a8eb6c9"
      },
      "outputs": [],
      "source": [
        "get_score(12)"
      ]
    },
    {
      "cell_type": "code",
      "execution_count": null,
      "id": "04d78c4a",
      "metadata": {
        "id": "04d78c4a"
      },
      "outputs": [],
      "source": [
        "model=RandomForestRegressor(random_state=42,\n",
        "                            n_jobs=-1,\n",
        "                            max_depth=16,\n",
        "                            max_leaf_nodes=2**5)\n",
        "model.fit(X_train, train_target.values.ravel())\n",
        "model.score(X_train, train_target),model.score(X_test, test_target)"
      ]
    },
    {
      "cell_type": "code",
      "execution_count": null,
      "id": "6fe996cd",
      "metadata": {
        "id": "6fe996cd"
      },
      "outputs": [],
      "source": [
        "model=RandomForestRegressor(random_state=42,\n",
        "                            n_jobs=-1,\n",
        "                            max_depth=25,\n",
        "                            max_leaf_nodes=2**10,\n",
        "                           max_features='log2')\n",
        "model.fit(X_train, train_target.values.ravel())\n",
        "model.score(X_train, train_target),model.score(X_test, test_target)"
      ]
    },
    {
      "cell_type": "code",
      "execution_count": null,
      "id": "5109ddd3",
      "metadata": {
        "id": "5109ddd3"
      },
      "outputs": [],
      "source": [
        "model=RandomForestRegressor(random_state=42,\n",
        "                            n_jobs=-1,\n",
        "                            max_depth=25,\n",
        "                            max_leaf_nodes=2**8,\n",
        "                           max_features=10,\n",
        "                           max_samples=0.5,\n",
        "                           min_impurity_decrease=1e-6)\n",
        "model.fit(X_train, train_target.values.ravel())\n",
        "model.score(X_train, train_target),model.score(X_test, test_target)"
      ]
    },
    {
      "cell_type": "code",
      "execution_count": null,
      "id": "7affc897",
      "metadata": {
        "id": "7affc897"
      },
      "outputs": [],
      "source": [
        "model=RandomForestRegressor(random_state=42,\n",
        "                            n_jobs=-1,\n",
        "                            max_depth=27,\n",
        "                            max_leaf_nodes=2**8,\n",
        "                           max_features=7)\n",
        "model.fit(X_train, train_target.values.ravel())\n",
        "model.score(X_train, train_target),model.score(X_test, test_target)"
      ]
    },
    {
      "cell_type": "markdown",
      "id": "8c25a00b",
      "metadata": {
        "id": "8c25a00b"
      },
      "source": [
        "# PART-2"
      ]
    },
    {
      "cell_type": "code",
      "execution_count": 1,
      "id": "b1e498e3",
      "metadata": {
        "id": "b1e498e3"
      },
      "outputs": [],
      "source": [
        "import numpy as np\n",
        "import pandas as pd\n",
        "from datetime import date\n",
        "import matplotlib.pyplot as plt"
      ]
    },
    {
      "cell_type": "code",
      "source": [
        "from google.colab import drive\n",
        "drive.mount('/content/drive')"
      ],
      "metadata": {
        "id": "8Mb-ajGpSSYK"
      },
      "id": "8Mb-ajGpSSYK",
      "execution_count": null,
      "outputs": []
    },
    {
      "cell_type": "code",
      "execution_count": 2,
      "id": "fdd24269",
      "metadata": {
        "id": "fdd24269"
      },
      "outputs": [],
      "source": [
        "def load_data(file_dir):\n",
        "    dataset=pd.read_csv(file_dir,sep=';',\n",
        "                    header=0,low_memory=False,\n",
        "                    infer_datetime_format=True,\n",
        "                    parse_dates={'datetime':[0,1]},\n",
        "                    index_col=['datetime'])\n",
        "    \n",
        "    #remove that row whuch has not any value...\n",
        "    dataset.drop(index=dataset[dataset['Global_active_power']=='?'].index,inplace=True)\n",
        "    dataset.to_csv('file1.csv')\n",
        "    return dataset\n"
      ]
    },
    {
      "cell_type": "code",
      "execution_count": 3,
      "id": "31ae91c3",
      "metadata": {
        "colab": {
          "base_uri": "https://localhost:8080/",
          "height": 311
        },
        "id": "31ae91c3",
        "outputId": "3095127f-b575-4b0c-cb17-dcf029d207e5"
      },
      "outputs": [
        {
          "output_type": "error",
          "ename": "FileNotFoundError",
          "evalue": "ignored",
          "traceback": [
            "\u001b[0;31m---------------------------------------------------------------------------\u001b[0m",
            "\u001b[0;31mFileNotFoundError\u001b[0m                         Traceback (most recent call last)",
            "\u001b[0;32m<ipython-input-3-f8f7a25391e5>\u001b[0m in \u001b[0;36m<module>\u001b[0;34m()\u001b[0m\n\u001b[0;32m----> 1\u001b[0;31m \u001b[0mx\u001b[0m\u001b[0;34m=\u001b[0m\u001b[0mload_data\u001b[0m\u001b[0;34m(\u001b[0m\u001b[0;34mr'C:\\Users\\SR-19\\Desktop\\household_power_consumption.txt'\u001b[0m\u001b[0;34m)\u001b[0m\u001b[0;34m\u001b[0m\u001b[0;34m\u001b[0m\u001b[0m\n\u001b[0m",
            "\u001b[0;32m<ipython-input-2-f7b99762a6f2>\u001b[0m in \u001b[0;36mload_data\u001b[0;34m(file_dir)\u001b[0m\n\u001b[1;32m      4\u001b[0m                     \u001b[0minfer_datetime_format\u001b[0m\u001b[0;34m=\u001b[0m\u001b[0;32mTrue\u001b[0m\u001b[0;34m,\u001b[0m\u001b[0;34m\u001b[0m\u001b[0;34m\u001b[0m\u001b[0m\n\u001b[1;32m      5\u001b[0m                     \u001b[0mparse_dates\u001b[0m\u001b[0;34m=\u001b[0m\u001b[0;34m{\u001b[0m\u001b[0;34m'datetime'\u001b[0m\u001b[0;34m:\u001b[0m\u001b[0;34m[\u001b[0m\u001b[0;36m0\u001b[0m\u001b[0;34m,\u001b[0m\u001b[0;36m1\u001b[0m\u001b[0;34m]\u001b[0m\u001b[0;34m}\u001b[0m\u001b[0;34m,\u001b[0m\u001b[0;34m\u001b[0m\u001b[0;34m\u001b[0m\u001b[0m\n\u001b[0;32m----> 6\u001b[0;31m                     index_col=['datetime'])\n\u001b[0m\u001b[1;32m      7\u001b[0m \u001b[0;34m\u001b[0m\u001b[0m\n\u001b[1;32m      8\u001b[0m     \u001b[0;31m#remove that row whuch has not any value...\u001b[0m\u001b[0;34m\u001b[0m\u001b[0;34m\u001b[0m\u001b[0;34m\u001b[0m\u001b[0m\n",
            "\u001b[0;32m/usr/local/lib/python3.7/dist-packages/pandas/util/_decorators.py\u001b[0m in \u001b[0;36mwrapper\u001b[0;34m(*args, **kwargs)\u001b[0m\n\u001b[1;32m    309\u001b[0m                     \u001b[0mstacklevel\u001b[0m\u001b[0;34m=\u001b[0m\u001b[0mstacklevel\u001b[0m\u001b[0;34m,\u001b[0m\u001b[0;34m\u001b[0m\u001b[0;34m\u001b[0m\u001b[0m\n\u001b[1;32m    310\u001b[0m                 )\n\u001b[0;32m--> 311\u001b[0;31m             \u001b[0;32mreturn\u001b[0m \u001b[0mfunc\u001b[0m\u001b[0;34m(\u001b[0m\u001b[0;34m*\u001b[0m\u001b[0margs\u001b[0m\u001b[0;34m,\u001b[0m \u001b[0;34m**\u001b[0m\u001b[0mkwargs\u001b[0m\u001b[0;34m)\u001b[0m\u001b[0;34m\u001b[0m\u001b[0;34m\u001b[0m\u001b[0m\n\u001b[0m\u001b[1;32m    312\u001b[0m \u001b[0;34m\u001b[0m\u001b[0m\n\u001b[1;32m    313\u001b[0m         \u001b[0;32mreturn\u001b[0m \u001b[0mwrapper\u001b[0m\u001b[0;34m\u001b[0m\u001b[0;34m\u001b[0m\u001b[0m\n",
            "\u001b[0;32m/usr/local/lib/python3.7/dist-packages/pandas/io/parsers/readers.py\u001b[0m in \u001b[0;36mread_csv\u001b[0;34m(filepath_or_buffer, sep, delimiter, header, names, index_col, usecols, squeeze, prefix, mangle_dupe_cols, dtype, engine, converters, true_values, false_values, skipinitialspace, skiprows, skipfooter, nrows, na_values, keep_default_na, na_filter, verbose, skip_blank_lines, parse_dates, infer_datetime_format, keep_date_col, date_parser, dayfirst, cache_dates, iterator, chunksize, compression, thousands, decimal, lineterminator, quotechar, quoting, doublequote, escapechar, comment, encoding, encoding_errors, dialect, error_bad_lines, warn_bad_lines, on_bad_lines, delim_whitespace, low_memory, memory_map, float_precision, storage_options)\u001b[0m\n\u001b[1;32m    584\u001b[0m     \u001b[0mkwds\u001b[0m\u001b[0;34m.\u001b[0m\u001b[0mupdate\u001b[0m\u001b[0;34m(\u001b[0m\u001b[0mkwds_defaults\u001b[0m\u001b[0;34m)\u001b[0m\u001b[0;34m\u001b[0m\u001b[0;34m\u001b[0m\u001b[0m\n\u001b[1;32m    585\u001b[0m \u001b[0;34m\u001b[0m\u001b[0m\n\u001b[0;32m--> 586\u001b[0;31m     \u001b[0;32mreturn\u001b[0m \u001b[0m_read\u001b[0m\u001b[0;34m(\u001b[0m\u001b[0mfilepath_or_buffer\u001b[0m\u001b[0;34m,\u001b[0m \u001b[0mkwds\u001b[0m\u001b[0;34m)\u001b[0m\u001b[0;34m\u001b[0m\u001b[0;34m\u001b[0m\u001b[0m\n\u001b[0m\u001b[1;32m    587\u001b[0m \u001b[0;34m\u001b[0m\u001b[0m\n\u001b[1;32m    588\u001b[0m \u001b[0;34m\u001b[0m\u001b[0m\n",
            "\u001b[0;32m/usr/local/lib/python3.7/dist-packages/pandas/io/parsers/readers.py\u001b[0m in \u001b[0;36m_read\u001b[0;34m(filepath_or_buffer, kwds)\u001b[0m\n\u001b[1;32m    480\u001b[0m \u001b[0;34m\u001b[0m\u001b[0m\n\u001b[1;32m    481\u001b[0m     \u001b[0;31m# Create the parser.\u001b[0m\u001b[0;34m\u001b[0m\u001b[0;34m\u001b[0m\u001b[0;34m\u001b[0m\u001b[0m\n\u001b[0;32m--> 482\u001b[0;31m     \u001b[0mparser\u001b[0m \u001b[0;34m=\u001b[0m \u001b[0mTextFileReader\u001b[0m\u001b[0;34m(\u001b[0m\u001b[0mfilepath_or_buffer\u001b[0m\u001b[0;34m,\u001b[0m \u001b[0;34m**\u001b[0m\u001b[0mkwds\u001b[0m\u001b[0;34m)\u001b[0m\u001b[0;34m\u001b[0m\u001b[0;34m\u001b[0m\u001b[0m\n\u001b[0m\u001b[1;32m    483\u001b[0m \u001b[0;34m\u001b[0m\u001b[0m\n\u001b[1;32m    484\u001b[0m     \u001b[0;32mif\u001b[0m \u001b[0mchunksize\u001b[0m \u001b[0;32mor\u001b[0m \u001b[0miterator\u001b[0m\u001b[0;34m:\u001b[0m\u001b[0;34m\u001b[0m\u001b[0;34m\u001b[0m\u001b[0m\n",
            "\u001b[0;32m/usr/local/lib/python3.7/dist-packages/pandas/io/parsers/readers.py\u001b[0m in \u001b[0;36m__init__\u001b[0;34m(self, f, engine, **kwds)\u001b[0m\n\u001b[1;32m    809\u001b[0m             \u001b[0mself\u001b[0m\u001b[0;34m.\u001b[0m\u001b[0moptions\u001b[0m\u001b[0;34m[\u001b[0m\u001b[0;34m\"has_index_names\"\u001b[0m\u001b[0;34m]\u001b[0m \u001b[0;34m=\u001b[0m \u001b[0mkwds\u001b[0m\u001b[0;34m[\u001b[0m\u001b[0;34m\"has_index_names\"\u001b[0m\u001b[0;34m]\u001b[0m\u001b[0;34m\u001b[0m\u001b[0;34m\u001b[0m\u001b[0m\n\u001b[1;32m    810\u001b[0m \u001b[0;34m\u001b[0m\u001b[0m\n\u001b[0;32m--> 811\u001b[0;31m         \u001b[0mself\u001b[0m\u001b[0;34m.\u001b[0m\u001b[0m_engine\u001b[0m \u001b[0;34m=\u001b[0m \u001b[0mself\u001b[0m\u001b[0;34m.\u001b[0m\u001b[0m_make_engine\u001b[0m\u001b[0;34m(\u001b[0m\u001b[0mself\u001b[0m\u001b[0;34m.\u001b[0m\u001b[0mengine\u001b[0m\u001b[0;34m)\u001b[0m\u001b[0;34m\u001b[0m\u001b[0;34m\u001b[0m\u001b[0m\n\u001b[0m\u001b[1;32m    812\u001b[0m \u001b[0;34m\u001b[0m\u001b[0m\n\u001b[1;32m    813\u001b[0m     \u001b[0;32mdef\u001b[0m \u001b[0mclose\u001b[0m\u001b[0;34m(\u001b[0m\u001b[0mself\u001b[0m\u001b[0;34m)\u001b[0m\u001b[0;34m:\u001b[0m\u001b[0;34m\u001b[0m\u001b[0;34m\u001b[0m\u001b[0m\n",
            "\u001b[0;32m/usr/local/lib/python3.7/dist-packages/pandas/io/parsers/readers.py\u001b[0m in \u001b[0;36m_make_engine\u001b[0;34m(self, engine)\u001b[0m\n\u001b[1;32m   1038\u001b[0m             )\n\u001b[1;32m   1039\u001b[0m         \u001b[0;31m# error: Too many arguments for \"ParserBase\"\u001b[0m\u001b[0;34m\u001b[0m\u001b[0;34m\u001b[0m\u001b[0;34m\u001b[0m\u001b[0m\n\u001b[0;32m-> 1040\u001b[0;31m         \u001b[0;32mreturn\u001b[0m \u001b[0mmapping\u001b[0m\u001b[0;34m[\u001b[0m\u001b[0mengine\u001b[0m\u001b[0;34m]\u001b[0m\u001b[0;34m(\u001b[0m\u001b[0mself\u001b[0m\u001b[0;34m.\u001b[0m\u001b[0mf\u001b[0m\u001b[0;34m,\u001b[0m \u001b[0;34m**\u001b[0m\u001b[0mself\u001b[0m\u001b[0;34m.\u001b[0m\u001b[0moptions\u001b[0m\u001b[0;34m)\u001b[0m  \u001b[0;31m# type: ignore[call-arg]\u001b[0m\u001b[0;34m\u001b[0m\u001b[0;34m\u001b[0m\u001b[0m\n\u001b[0m\u001b[1;32m   1041\u001b[0m \u001b[0;34m\u001b[0m\u001b[0m\n\u001b[1;32m   1042\u001b[0m     \u001b[0;32mdef\u001b[0m \u001b[0m_failover_to_python\u001b[0m\u001b[0;34m(\u001b[0m\u001b[0mself\u001b[0m\u001b[0;34m)\u001b[0m\u001b[0;34m:\u001b[0m\u001b[0;34m\u001b[0m\u001b[0;34m\u001b[0m\u001b[0m\n",
            "\u001b[0;32m/usr/local/lib/python3.7/dist-packages/pandas/io/parsers/c_parser_wrapper.py\u001b[0m in \u001b[0;36m__init__\u001b[0;34m(self, src, **kwds)\u001b[0m\n\u001b[1;32m     49\u001b[0m \u001b[0;34m\u001b[0m\u001b[0m\n\u001b[1;32m     50\u001b[0m         \u001b[0;31m# open handles\u001b[0m\u001b[0;34m\u001b[0m\u001b[0;34m\u001b[0m\u001b[0;34m\u001b[0m\u001b[0m\n\u001b[0;32m---> 51\u001b[0;31m         \u001b[0mself\u001b[0m\u001b[0;34m.\u001b[0m\u001b[0m_open_handles\u001b[0m\u001b[0;34m(\u001b[0m\u001b[0msrc\u001b[0m\u001b[0;34m,\u001b[0m \u001b[0mkwds\u001b[0m\u001b[0;34m)\u001b[0m\u001b[0;34m\u001b[0m\u001b[0;34m\u001b[0m\u001b[0m\n\u001b[0m\u001b[1;32m     52\u001b[0m         \u001b[0;32massert\u001b[0m \u001b[0mself\u001b[0m\u001b[0;34m.\u001b[0m\u001b[0mhandles\u001b[0m \u001b[0;32mis\u001b[0m \u001b[0;32mnot\u001b[0m \u001b[0;32mNone\u001b[0m\u001b[0;34m\u001b[0m\u001b[0;34m\u001b[0m\u001b[0m\n\u001b[1;32m     53\u001b[0m \u001b[0;34m\u001b[0m\u001b[0m\n",
            "\u001b[0;32m/usr/local/lib/python3.7/dist-packages/pandas/io/parsers/base_parser.py\u001b[0m in \u001b[0;36m_open_handles\u001b[0;34m(self, src, kwds)\u001b[0m\n\u001b[1;32m    227\u001b[0m             \u001b[0mmemory_map\u001b[0m\u001b[0;34m=\u001b[0m\u001b[0mkwds\u001b[0m\u001b[0;34m.\u001b[0m\u001b[0mget\u001b[0m\u001b[0;34m(\u001b[0m\u001b[0;34m\"memory_map\"\u001b[0m\u001b[0;34m,\u001b[0m \u001b[0;32mFalse\u001b[0m\u001b[0;34m)\u001b[0m\u001b[0;34m,\u001b[0m\u001b[0;34m\u001b[0m\u001b[0;34m\u001b[0m\u001b[0m\n\u001b[1;32m    228\u001b[0m             \u001b[0mstorage_options\u001b[0m\u001b[0;34m=\u001b[0m\u001b[0mkwds\u001b[0m\u001b[0;34m.\u001b[0m\u001b[0mget\u001b[0m\u001b[0;34m(\u001b[0m\u001b[0;34m\"storage_options\"\u001b[0m\u001b[0;34m,\u001b[0m \u001b[0;32mNone\u001b[0m\u001b[0;34m)\u001b[0m\u001b[0;34m,\u001b[0m\u001b[0;34m\u001b[0m\u001b[0;34m\u001b[0m\u001b[0m\n\u001b[0;32m--> 229\u001b[0;31m             \u001b[0merrors\u001b[0m\u001b[0;34m=\u001b[0m\u001b[0mkwds\u001b[0m\u001b[0;34m.\u001b[0m\u001b[0mget\u001b[0m\u001b[0;34m(\u001b[0m\u001b[0;34m\"encoding_errors\"\u001b[0m\u001b[0;34m,\u001b[0m \u001b[0;34m\"strict\"\u001b[0m\u001b[0;34m)\u001b[0m\u001b[0;34m,\u001b[0m\u001b[0;34m\u001b[0m\u001b[0;34m\u001b[0m\u001b[0m\n\u001b[0m\u001b[1;32m    230\u001b[0m         )\n\u001b[1;32m    231\u001b[0m \u001b[0;34m\u001b[0m\u001b[0m\n",
            "\u001b[0;32m/usr/local/lib/python3.7/dist-packages/pandas/io/common.py\u001b[0m in \u001b[0;36mget_handle\u001b[0;34m(path_or_buf, mode, encoding, compression, memory_map, is_text, errors, storage_options)\u001b[0m\n\u001b[1;32m    705\u001b[0m                 \u001b[0mencoding\u001b[0m\u001b[0;34m=\u001b[0m\u001b[0mioargs\u001b[0m\u001b[0;34m.\u001b[0m\u001b[0mencoding\u001b[0m\u001b[0;34m,\u001b[0m\u001b[0;34m\u001b[0m\u001b[0;34m\u001b[0m\u001b[0m\n\u001b[1;32m    706\u001b[0m                 \u001b[0merrors\u001b[0m\u001b[0;34m=\u001b[0m\u001b[0merrors\u001b[0m\u001b[0;34m,\u001b[0m\u001b[0;34m\u001b[0m\u001b[0;34m\u001b[0m\u001b[0m\n\u001b[0;32m--> 707\u001b[0;31m                 \u001b[0mnewline\u001b[0m\u001b[0;34m=\u001b[0m\u001b[0;34m\"\"\u001b[0m\u001b[0;34m,\u001b[0m\u001b[0;34m\u001b[0m\u001b[0;34m\u001b[0m\u001b[0m\n\u001b[0m\u001b[1;32m    708\u001b[0m             )\n\u001b[1;32m    709\u001b[0m         \u001b[0;32melse\u001b[0m\u001b[0;34m:\u001b[0m\u001b[0;34m\u001b[0m\u001b[0;34m\u001b[0m\u001b[0m\n",
            "\u001b[0;31mFileNotFoundError\u001b[0m: [Errno 2] No such file or directory: 'C:\\\\Users\\\\SR-19\\\\Desktop\\\\household_power_consumption.txt'"
          ]
        }
      ],
      "source": [
        "x=load_data(r'C:\\Users\\SR-19\\Desktop\\household_power_consumption.txt')"
      ]
    },
    {
      "cell_type": "code",
      "execution_count": null,
      "id": "0c8845a7",
      "metadata": {
        "id": "0c8845a7"
      },
      "outputs": [],
      "source": [
        "dataset=x.astype('float32')"
      ]
    },
    {
      "cell_type": "code",
      "execution_count": null,
      "id": "bb1f3564",
      "metadata": {
        "id": "bb1f3564"
      },
      "outputs": [],
      "source": [
        "new_data=dataset[['Global_active_power']].resample('1H').mean()"
      ]
    },
    {
      "cell_type": "code",
      "execution_count": null,
      "id": "198a54fb",
      "metadata": {
        "id": "198a54fb"
      },
      "outputs": [],
      "source": [
        "new_data.dropna(inplace=True)\n",
        "new_data.sort_index(inplace=True)"
      ]
    },
    {
      "cell_type": "code",
      "execution_count": null,
      "id": "060f7bd2",
      "metadata": {
        "id": "060f7bd2",
        "outputId": "215064b0-e72e-468c-b3f6-a08b029d034e"
      },
      "outputs": [
        {
          "name": "stdout",
          "output_type": "stream",
          "text": [
            "<class 'pandas.core.frame.DataFrame'>\n",
            "DatetimeIndex: 34168 entries, 2006-12-16 17:00:00 to 2010-11-26 21:00:00\n",
            "Data columns (total 1 columns):\n",
            " #   Column               Non-Null Count  Dtype  \n",
            "---  ------               --------------  -----  \n",
            " 0   Global_active_power  34168 non-null  float32\n",
            "dtypes: float32(1)\n",
            "memory usage: 400.4 KB\n"
          ]
        }
      ],
      "source": [
        "new_data.info()"
      ]
    },
    {
      "cell_type": "code",
      "execution_count": null,
      "id": "d93b6fe7",
      "metadata": {
        "id": "d93b6fe7",
        "outputId": "96a2ace5-32ac-485b-ad21-2a85d7a6ae3c"
      },
      "outputs": [
        {
          "data": {
            "text/plain": [
              "<AxesSubplot:xlabel='datetime'>"
            ]
          },
          "execution_count": 42,
          "metadata": {},
          "output_type": "execute_result"
        },
        {
          "data": {
            "image/png": "[encoded data removed]",
            "text/plain": [
              "<Figure size 2160x720 with 1 Axes>"
            ]
          },
          "metadata": {
            "needs_background": "light"
          },
          "output_type": "display_data"
        }
      ],
      "source": [
        "new_data.plot(figsize=(30,10))"
      ]
    },
    {
      "cell_type": "code",
      "execution_count": null,
      "id": "580cc3fd",
      "metadata": {
        "id": "580cc3fd"
      },
      "outputs": [],
      "source": [
        "from statsmodels.tsa.seasonal import seasonal_decompose"
      ]
    },
    {
      "cell_type": "code",
      "execution_count": null,
      "id": "03986502",
      "metadata": {
        "id": "03986502",
        "outputId": "ce41ebfa-591d-48fe-894d-948c5539d091"
      },
      "outputs": [
        {
          "data": {
            "image/png": "[encoded data removed]",
            "text/plain": [
              "<Figure size 432x288 with 4 Axes>"
            ]
          },
          "metadata": {
            "needs_background": "light"
          },
          "output_type": "display_data"
        }
      ],
      "source": [
        "results = seasonal_decompose(new_data[['Global_active_power']],period=3600)\n",
        "results.plot();"
      ]
    },
    {
      "cell_type": "code",
      "execution_count": null,
      "id": "052cc845",
      "metadata": {
        "id": "052cc845",
        "outputId": "4e45e1f2-01ce-4fae-c600-1ae6c03b0b5e"
      },
      "outputs": [
        {
          "data": {
            "image/png": "[encoded data removed]",
            "text/plain": [
              "<Figure size 432x288 with 1 Axes>"
            ]
          },
          "metadata": {
            "needs_background": "light"
          },
          "output_type": "display_data"
        }
      ],
      "source": [
        "from pandas import read_csv\n",
        "from matplotlib import pyplot\n",
        "series = read_csv('AirPassengers.csv', header=0, index_col=0)\n",
        "series.plot()\n",
        "pyplot.show()"
      ]
    },
    {
      "cell_type": "code",
      "execution_count": null,
      "id": "ef64b6b2",
      "metadata": {
        "id": "ef64b6b2",
        "outputId": "e68d71e4-7ff6-46a2-e33f-a415636866e0"
      },
      "outputs": [
        {
          "ename": "ValueError",
          "evalue": "You must specify a period or x must be a pandas object with a PeriodIndex or a DatetimeIndex with a freq not set to None",
          "output_type": "error",
          "traceback": [
            "\u001b[1;31m---------------------------------------------------------------------------\u001b[0m",
            "\u001b[1;31mValueError\u001b[0m                                Traceback (most recent call last)",
            "\u001b[1;32m~\\AppData\\Local\\Temp/ipykernel_11652/3941437379.py\u001b[0m in \u001b[0;36m<module>\u001b[1;34m\u001b[0m\n\u001b[0;32m      3\u001b[0m \u001b[1;32mfrom\u001b[0m \u001b[0mstatsmodels\u001b[0m\u001b[1;33m.\u001b[0m\u001b[0mtsa\u001b[0m\u001b[1;33m.\u001b[0m\u001b[0mseasonal\u001b[0m \u001b[1;32mimport\u001b[0m \u001b[0mseasonal_decompose\u001b[0m\u001b[1;33m\u001b[0m\u001b[1;33m\u001b[0m\u001b[0m\n\u001b[0;32m      4\u001b[0m \u001b[0mseries\u001b[0m \u001b[1;33m=\u001b[0m \u001b[0mread_csv\u001b[0m\u001b[1;33m(\u001b[0m\u001b[1;34m'AirPassengers.csv'\u001b[0m\u001b[1;33m,\u001b[0m \u001b[0mheader\u001b[0m\u001b[1;33m=\u001b[0m\u001b[1;36m0\u001b[0m\u001b[1;33m,\u001b[0m \u001b[0mindex_col\u001b[0m\u001b[1;33m=\u001b[0m\u001b[1;36m0\u001b[0m\u001b[1;33m)\u001b[0m\u001b[1;33m\u001b[0m\u001b[1;33m\u001b[0m\u001b[0m\n\u001b[1;32m----> 5\u001b[1;33m \u001b[0mresult\u001b[0m \u001b[1;33m=\u001b[0m \u001b[0mseasonal_decompose\u001b[0m\u001b[1;33m(\u001b[0m\u001b[0mseries\u001b[0m\u001b[1;33m,\u001b[0m \u001b[0mmodel\u001b[0m\u001b[1;33m=\u001b[0m\u001b[1;34m'multiplicative'\u001b[0m\u001b[1;33m)\u001b[0m\u001b[1;33m\u001b[0m\u001b[1;33m\u001b[0m\u001b[0m\n\u001b[0m\u001b[0;32m      6\u001b[0m \u001b[0mresult\u001b[0m\u001b[1;33m.\u001b[0m\u001b[0mplot\u001b[0m\u001b[1;33m(\u001b[0m\u001b[1;33m)\u001b[0m\u001b[1;33m\u001b[0m\u001b[1;33m\u001b[0m\u001b[0m\n\u001b[0;32m      7\u001b[0m \u001b[0mpyplot\u001b[0m\u001b[1;33m.\u001b[0m\u001b[0mshow\u001b[0m\u001b[1;33m(\u001b[0m\u001b[1;33m)\u001b[0m\u001b[1;33m\u001b[0m\u001b[1;33m\u001b[0m\u001b[0m\n",
            "\u001b[1;32mC:\\python39\\lib\\site-packages\\statsmodels\\tsa\\seasonal.py\u001b[0m in \u001b[0;36mseasonal_decompose\u001b[1;34m(x, model, filt, period, two_sided, extrapolate_trend)\u001b[0m\n\u001b[0;32m    157\u001b[0m             \u001b[0mperiod\u001b[0m \u001b[1;33m=\u001b[0m \u001b[0mpfreq\u001b[0m\u001b[1;33m\u001b[0m\u001b[1;33m\u001b[0m\u001b[0m\n\u001b[0;32m    158\u001b[0m         \u001b[1;32melse\u001b[0m\u001b[1;33m:\u001b[0m\u001b[1;33m\u001b[0m\u001b[1;33m\u001b[0m\u001b[0m\n\u001b[1;32m--> 159\u001b[1;33m             raise ValueError(\n\u001b[0m\u001b[0;32m    160\u001b[0m                 \u001b[1;34m\"You must specify a period or x must be a pandas object with \"\u001b[0m\u001b[1;33m\u001b[0m\u001b[1;33m\u001b[0m\u001b[0m\n\u001b[0;32m    161\u001b[0m                 \u001b[1;34m\"a PeriodIndex or a DatetimeIndex with a freq not set to None\"\u001b[0m\u001b[1;33m\u001b[0m\u001b[1;33m\u001b[0m\u001b[0m\n",
            "\u001b[1;31mValueError\u001b[0m: You must specify a period or x must be a pandas object with a PeriodIndex or a DatetimeIndex with a freq not set to None"
          ]
        }
      ],
      "source": [
        "from pandas import read_csv\n",
        "from matplotlib import pyplot\n",
        "from statsmodels.tsa.seasonal import seasonal_decompose\n",
        "series = read_csv('AirPassengers.csv', header=0, index_col=0)\n",
        "result = seasonal_decompose(series, model='multiplicative')\n",
        "result.plot()\n",
        "pyplot.show()"
      ]
    },
    {
      "cell_type": "code",
      "execution_count": null,
      "id": "d71fa703",
      "metadata": {
        "id": "d71fa703",
        "outputId": "53fdce57-00a5-40d3-d951-a6e42faa9154"
      },
      "outputs": [
        {
          "data": {
            "text/html": [
              "<div>\n",
              "<style scoped>\n",
              "    .dataframe tbody tr th:only-of-type {\n",
              "        vertical-align: middle;\n",
              "    }\n",
              "\n",
              "    .dataframe tbody tr th {\n",
              "        vertical-align: top;\n",
              "    }\n",
              "\n",
              "    .dataframe thead th {\n",
              "        text-align: right;\n",
              "    }\n",
              "</style>\n",
              "<table border=\"1\" class=\"dataframe\">\n",
              "  <thead>\n",
              "    <tr style=\"text-align: right;\">\n",
              "      <th></th>\n",
              "      <th>Global_active_power</th>\n",
              "    </tr>\n",
              "    <tr>\n",
              "      <th>datetime</th>\n",
              "      <th></th>\n",
              "    </tr>\n",
              "  </thead>\n",
              "  <tbody>\n",
              "    <tr>\n",
              "      <th>2006-12-16 17:00:00</th>\n",
              "      <td>4.222889</td>\n",
              "    </tr>\n",
              "    <tr>\n",
              "      <th>2006-12-16 18:00:00</th>\n",
              "      <td>3.632200</td>\n",
              "    </tr>\n",
              "    <tr>\n",
              "      <th>2006-12-16 19:00:00</th>\n",
              "      <td>3.400233</td>\n",
              "    </tr>\n",
              "    <tr>\n",
              "      <th>2006-12-16 20:00:00</th>\n",
              "      <td>3.268567</td>\n",
              "    </tr>\n",
              "    <tr>\n",
              "      <th>2006-12-16 21:00:00</th>\n",
              "      <td>3.056467</td>\n",
              "    </tr>\n",
              "  </tbody>\n",
              "</table>\n",
              "</div>"
            ],
            "text/plain": [
              "                     Global_active_power\n",
              "datetime                                \n",
              "2006-12-16 17:00:00             4.222889\n",
              "2006-12-16 18:00:00             3.632200\n",
              "2006-12-16 19:00:00             3.400233\n",
              "2006-12-16 20:00:00             3.268567\n",
              "2006-12-16 21:00:00             3.056467"
            ]
          },
          "execution_count": 53,
          "metadata": {},
          "output_type": "execute_result"
        }
      ],
      "source": [
        "new_data[['Global_active_power']].head()"
      ]
    },
    {
      "cell_type": "code",
      "execution_count": null,
      "id": "3335d531",
      "metadata": {
        "id": "3335d531"
      },
      "outputs": [],
      "source": [
        "date_index=new_data.index.to_series()"
      ]
    },
    {
      "cell_type": "markdown",
      "id": "12b63891",
      "metadata": {
        "id": "12b63891"
      },
      "source": [
        "## Adding some features... "
      ]
    },
    {
      "cell_type": "code",
      "execution_count": null,
      "id": "100c6f2b",
      "metadata": {
        "id": "100c6f2b"
      },
      "outputs": [],
      "source": [
        "def adding_hour_feature(hour):\n",
        "    for index in date_index:\n",
        "        if index-timedelta(hours=hour) in new_data.index:\n",
        "            new_data.loc[index,f\"hour-{hour}\"]=new_data.loc[index-timedelta(hours=hour),'Global_active_power']\n",
        "        else:\n",
        "            new_data.loc[index,f\"hour-{hour}\"]=new_data.loc[index-timedelta(hours=hour)+timedelta(days=1),'Global_active_power']\n",
        "    return new_data"
      ]
    },
    {
      "cell_type": "code",
      "execution_count": null,
      "id": "2606827f",
      "metadata": {
        "id": "2606827f"
      },
      "outputs": [],
      "source": [
        "def adding_day_feature(day)\n",
        "    for index in date_index:\n",
        "        if index-timedelta(days=day) in new_data.index:\n",
        "            if ((index-timedelta(days=day)).weekday() > 4 and index.weekday() <= 4 ) or ((index-timedelta(days=day)).weekday() <= 4 and index.weekday() > 4 ):\n",
        "                if index-timedelta(weeks=1) in new_data.index:\n",
        "                    new_data.loc[index,f\"day-{day}\"]=new_data.loc[index-timedelta(weeks=1),'Global_active_power']\n",
        "                else:\n",
        "                    new_data.loc[index,f\"day-{day}\"]=new_data.loc[index+timedelta(weeks=1),'Global_active_power']\n",
        "            else:\n",
        "                new_data.loc[index,f\"day-{day}\"]=new_data.loc[index-timedelta(days=day),'Global_active_power']\n",
        "        else:\n",
        "            new_data.loc[index,f\"day-{day}\"]=new_data.loc[index-timedelta(days=day)+timedelta(weeks=1),'Global_active_power']\n",
        "    return new_data"
      ]
    },
    {
      "cell_type": "code",
      "execution_count": null,
      "id": "f1f927c8",
      "metadata": {
        "id": "f1f927c8"
      },
      "outputs": [],
      "source": [
        "def adding_week_feature(week):\n",
        "    for index in date_index:\n",
        "        if index-timedelta(weeks=week) in new_data.index:\n",
        "            new_data.loc[index,f\"week-{week}\"]=new_data.loc[index-timedelta(weeks=week),'Global_active_power']\n",
        "        else:\n",
        "            new_data.loc[index,f\"week-{week}\"]=new_data.loc[index+timedelta(weeks=week),'Global_active_power']\n",
        "    return new_data"
      ]
    },
    {
      "cell_type": "code",
      "execution_count": null,
      "id": "9152321d",
      "metadata": {
        "id": "9152321d"
      },
      "outputs": [],
      "source": [
        "def adding_TimeDate_feature(data,date_index)\n",
        "    data['year']=date_index.dt.year\n",
        "    data['month']=date_index.dt.month_name()\n",
        "    data['day_of_week']=date_index.dt.day_name()\n",
        "    data['hour']=date_index.dt.hour\n",
        "    data['weekend']=date_index.dt.dayofweek>4\n",
        "    data=data.replace((np.inf, -np.inf, np.nan), 0).reset_index(drop=True)\n",
        "    return data"
      ]
    },
    {
      "cell_type": "code",
      "execution_count": null,
      "id": "d76872fe",
      "metadata": {
        "id": "d76872fe"
      },
      "outputs": [],
      "source": [
        "def normalizing_data(raw_df,data):\n",
        "    numerical_cols=['hour-1','hour-2','hour-3','hour-4','hour-5','hour-6','day-1','day-2','day-3','day-4','week-1','week-2','week-3','week-4']\n",
        "    scaler = MinMaxScaler().fit(raw_df[numerical_cols])\n",
        "    normlized_data[numerical_cols] = scaler.transform(data[numerical_cols]) \n",
        "    return normlized_data"
      ]
    },
    {
      "cell_type": "code",
      "execution_count": null,
      "id": "2a0e6893",
      "metadata": {
        "id": "2a0e6893"
      },
      "outputs": [],
      "source": [
        "def encoding_data(raw_df,data):\n",
        "    categorical_cols=['weekend']\n",
        "    encoder = OneHotEncoder(sparse=False, handle_unknown='ignore').fit(raw_df[categorical_cols])\n",
        "    encoded_cols = list(encoder.get_feature_names_out(categorical_cols))\n",
        "    encoded_data[encoded_cols] = encoder.transform(data[categorical_cols])\n",
        "    return encoded_data,encoded_cols\n"
      ]
    },
    {
      "cell_type": "code",
      "execution_count": null,
      "id": "ba1fb220",
      "metadata": {
        "id": "ba1fb220"
      },
      "outputs": [],
      "source": [
        "def split_data(raw_df):\n",
        "    train_data=raw_df[raw_df.year<2010]\n",
        "    test_data=raw_df[raw_df.year==2010]\n",
        "    \n",
        "    #creating diff columns...and splitting data into.. input and target\n",
        "    input_cols=['hour-1','hour-2','hour-3','hour-4','hour-5','hour-6','day-1','day-2','day-3','day-4','week-1','week-2','week-3','week-4','weekend']\n",
        "    target_cols=['Global_active_power']\n",
        "    \n",
        "    train_input=train_data[input_cols].copy()\n",
        "    train_target=train_data[target_cols].copy()\n",
        "    test_input=test_data[input_cols].copy()\n",
        "    test_target=test_data[target_cols].copy()\n",
        "return train_input,train_target,test_input,test_target"
      ]
    },
    {
      "cell_type": "code",
      "execution_count": null,
      "id": "8a3bdffd",
      "metadata": {
        "id": "8a3bdffd"
      },
      "outputs": [],
      "source": [
        "X_train = train_input[numerical_cols+encoded_cols]\n",
        "X_test = test_input[numerical_cols+encoded_cols]"
      ]
    },
    {
      "cell_type": "code",
      "execution_count": null,
      "id": "c19bf7a1",
      "metadata": {
        "id": "c19bf7a1"
      },
      "outputs": [],
      "source": [
        "model=RandomForestRegressor(random_state=42,\n",
        "                            n_jobs=-1)\n",
        "model.fit(X_train, train_target.values.ravel())\n",
        "model.score(X_train, train_target),model.score(X_test, test_target)"
      ]
    },
    {
      "cell_type": "code",
      "execution_count": null,
      "id": "5d5b19d9",
      "metadata": {
        "id": "5d5b19d9"
      },
      "outputs": [],
      "source": [
        "importance_df = pd.DataFrame({\n",
        "    'feature': X_train.columns,\n",
        "    'importance': model.feature_importances_\n",
        "}).sort_values('importance', ascending=False)"
      ]
    },
    {
      "cell_type": "code",
      "execution_count": null,
      "id": "e3907d54",
      "metadata": {
        "id": "e3907d54"
      },
      "outputs": [],
      "source": [
        "importance_df"
      ]
    },
    {
      "cell_type": "code",
      "execution_count": null,
      "id": "cfd993a2",
      "metadata": {
        "id": "cfd993a2"
      },
      "outputs": [],
      "source": [
        "model=RandomForestRegressor(random_state=42,\n",
        "                            n_jobs=-1,\n",
        "                            max_depth=10,\n",
        "                            max_leaf_nodes=2**10,\n",
        "                           max_features='log2',\n",
        "                           min_impurity_decrease=1e-6)\n",
        "model.fit(X_train, train_target.values.ravel())\n",
        "model.score(X_train, train_target),model.score(X_test, test_target)"
      ]
    },
    {
      "cell_type": "markdown",
      "id": "27632e2f",
      "metadata": {
        "id": "27632e2f"
      },
      "source": [
        "### Adding Some Features... "
      ]
    },
    {
      "cell_type": "code",
      "execution_count": null,
      "id": "6b067b1b",
      "metadata": {
        "id": "6b067b1b"
      },
      "outputs": [],
      "source": [
        "for month,month_df in temp_data.groupby('month'): \n",
        "    for week,week_df in month_df.groupby('day_of_week'):\n",
        "        for hour,hour_df in week_df.groupby('hour'):\n",
        "            mean=hour_df.Global_active_power.mean()\n",
        "            std=hour_df.Global_active_power.std()\n",
        "            for index in hour_df.index:\n",
        "                temp_data.loc[index,'mean']=mean\n",
        "                temp_data.loc[index,'std']=std  "
      ]
    },
    {
      "cell_type": "markdown",
      "id": "99e3baf6",
      "metadata": {
        "id": "99e3baf6"
      },
      "source": [
        "# pca"
      ]
    },
    {
      "cell_type": "code",
      "execution_count": null,
      "id": "96112b4b",
      "metadata": {
        "id": "96112b4b"
      },
      "outputs": [],
      "source": [
        "raw_df.head(10)\n",
        "\n",
        "xt=raw_df.drop([\"weekend\",\"year\",\"day_of_week\",\"month\",\"hour\"],axis=1)\n",
        "xt"
      ]
    },
    {
      "cell_type": "code",
      "execution_count": null,
      "id": "056e1383",
      "metadata": {
        "id": "056e1383"
      },
      "outputs": [],
      "source": [
        "xt.to_csv(\"mydata.csv\")"
      ]
    },
    {
      "cell_type": "code",
      "execution_count": null,
      "id": "44e79189",
      "metadata": {
        "id": "44e79189"
      },
      "outputs": [],
      "source": [
        "pca = PCA(0.95)\n",
        "data=pca.fit_transform(xt)"
      ]
    },
    {
      "cell_type": "code",
      "execution_count": null,
      "id": "843cfacb",
      "metadata": {
        "id": "843cfacb"
      },
      "outputs": [],
      "source": [
        "pca.explained_variance_ratio_"
      ]
    },
    {
      "cell_type": "code",
      "execution_count": null,
      "id": "e101ead5",
      "metadata": {
        "id": "e101ead5"
      },
      "outputs": [],
      "source": [
        "xt_column=[xt.columns]\n",
        "xt_index=[xt.index.values]\n",
        "yt=pd.DataFrame(data,index=xt_index)\n",
        "yt"
      ]
    },
    {
      "cell_type": "markdown",
      "id": "2f0f6695",
      "metadata": {
        "id": "2f0f6695"
      },
      "source": [
        "# printing...."
      ]
    },
    {
      "cell_type": "code",
      "execution_count": null,
      "id": "ee8958a1",
      "metadata": {
        "id": "ee8958a1"
      },
      "outputs": [],
      "source": [
        "temp_data=new_data[new_data.year>2006] "
      ]
    },
    {
      "cell_type": "code",
      "execution_count": null,
      "id": "796313bc",
      "metadata": {
        "id": "796313bc"
      },
      "outputs": [],
      "source": [
        "temp_data.columns"
      ]
    },
    {
      "cell_type": "code",
      "execution_count": null,
      "id": "6cc0e1ab",
      "metadata": {
        "id": "6cc0e1ab"
      },
      "outputs": [],
      "source": [
        "import seaborn as sns"
      ]
    },
    {
      "cell_type": "code",
      "execution_count": null,
      "id": "de36acc3",
      "metadata": {
        "id": "de36acc3"
      },
      "outputs": [],
      "source": [
        "plt.figure(figsize=(30,15))\n",
        "weekend=temp_data.weekend.astype(float)\n",
        "ax = sns.boxplot(x=temp_data.hour, y=temp_data.Global_active_power,hue=weekend,data=temp_data)"
      ]
    },
    {
      "cell_type": "code",
      "execution_count": null,
      "id": "44ffd56d",
      "metadata": {
        "id": "44ffd56d"
      },
      "outputs": [],
      "source": [
        "plt.figure(figsize=(30,15))\n",
        "weekday=temp_data.day_of_week\n",
        "ax = sns.boxplot(x=temp_data.hour, y=temp_data.Global_active_power,hue=weekday,data=temp_data)"
      ]
    },
    {
      "cell_type": "code",
      "execution_count": null,
      "id": "44810d4d",
      "metadata": {
        "id": "44810d4d"
      },
      "outputs": [],
      "source": [
        "plt.figure(figsize=(25,15))\n",
        "month_name=temp_data.month\n",
        "ax = sns.boxplot(x=temp_data.hour, y=temp_data.Global_active_power,hue=month_name,data=temp_data)"
      ]
    },
    {
      "cell_type": "code",
      "execution_count": null,
      "id": "323c234c",
      "metadata": {
        "id": "323c234c"
      },
      "outputs": [],
      "source": [
        "plt.scatter(temp_data.hour,temp_data.Global_active_power)"
      ]
    },
    {
      "cell_type": "code",
      "execution_count": null,
      "id": "39fa4acc",
      "metadata": {
        "id": "39fa4acc"
      },
      "outputs": [],
      "source": [
        "plt.scatter(temp_data.weekend,temp_data.Global_active_power)"
      ]
    },
    {
      "cell_type": "code",
      "execution_count": null,
      "id": "ff835ee6",
      "metadata": {
        "id": "ff835ee6"
      },
      "outputs": [],
      "source": [
        "plt.scatter(temp_data.month,temp_data.Global_active_power)"
      ]
    },
    {
      "cell_type": "code",
      "execution_count": null,
      "id": "ec604b19",
      "metadata": {
        "id": "ec604b19"
      },
      "outputs": [],
      "source": [
        "plt.figure(figsize=(30,15))\n",
        "ax = sns.boxplot(x=temp_data.month, y=temp_data.Global_active_power,data=temp_data)"
      ]
    },
    {
      "cell_type": "code",
      "execution_count": null,
      "id": "3be1d0cc",
      "metadata": {
        "id": "3be1d0cc"
      },
      "outputs": [],
      "source": [
        "plt.scatter(temp_data.day_of_week,temp_data.Global_active_power)"
      ]
    },
    {
      "cell_type": "code",
      "execution_count": null,
      "id": "5a002123",
      "metadata": {
        "id": "5a002123"
      },
      "outputs": [],
      "source": [
        "plt.figure(figsize=(30,15))\n",
        "\n",
        "ax = sns.boxplot(x=temp_data.day_of_week, y=temp_data.Global_active_power,data=temp_data)"
      ]
    },
    {
      "cell_type": "markdown",
      "id": "acba7384",
      "metadata": {
        "id": "acba7384"
      },
      "source": [
        "# Grid Search CV"
      ]
    },
    {
      "cell_type": "code",
      "execution_count": null,
      "id": "b867e049",
      "metadata": {
        "id": "b867e049"
      },
      "outputs": [],
      "source": [
        "from sklearn.model_selection import GridSearchCV"
      ]
    },
    {
      "cell_type": "code",
      "execution_count": null,
      "id": "06751b8e",
      "metadata": {
        "id": "06751b8e"
      },
      "outputs": [],
      "source": [
        "param_grid = {\n",
        "    'max_depth': [8,10],\n",
        "    'min_samples_split': [2,4],\n",
        "    'n_estimators': [int(x) for x in range(100, 500, 100)]}"
      ]
    },
    {
      "cell_type": "code",
      "execution_count": null,
      "id": "b3e13f7f",
      "metadata": {
        "id": "b3e13f7f"
      },
      "outputs": [],
      "source": [
        "model=RandomForestRegressor()\n",
        "grid_search = GridSearchCV(estimator = model, param_grid = param_grid, \n",
        "                          cv = 10, n_jobs = -1, verbose = 2)\n",
        "grid_search.fit(X_train,train_target)"
      ]
    },
    {
      "cell_type": "code",
      "execution_count": null,
      "id": "91247681",
      "metadata": {
        "id": "91247681"
      },
      "outputs": [],
      "source": [
        "grid_search.best_params_"
      ]
    },
    {
      "cell_type": "code",
      "execution_count": null,
      "id": "a2caf221",
      "metadata": {
        "id": "a2caf221"
      },
      "outputs": [],
      "source": [
        "grid_search.best_score_"
      ]
    },
    {
      "cell_type": "code",
      "execution_count": null,
      "id": "39fc199c",
      "metadata": {
        "id": "39fc199c"
      },
      "outputs": [],
      "source": [
        ""
      ]
    }
  ],
  "metadata": {
    "kernelspec": {
      "display_name": "Python 3 (ipykernel)",
      "language": "python",
      "name": "python3"
    },
    "language_info": {
      "codemirror_mode": {
        "name": "ipython",
        "version": 3
      },
      "file_extension": ".py",
      "mimetype": "text/x-python",
      "name": "python",
      "nbconvert_exporter": "python",
      "pygments_lexer": "ipython3",
      "version": "3.9.9"
    },
    "colab": {
      "name": "Load_forecasting.ipynb",
      "provenance": []
    }
  },
  "nbformat": 4,
  "nbformat_minor": 5
}